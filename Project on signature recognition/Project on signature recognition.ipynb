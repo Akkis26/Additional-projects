{
 "cells": [
  {
   "cell_type": "markdown",
   "id": "0338b238",
   "metadata": {},
   "source": [
    "# Specifying the folder where images are present"
   ]
  },
  {
   "cell_type": "code",
   "execution_count": 2,
   "id": "8323cbe5",
   "metadata": {},
   "outputs": [],
   "source": [
    "TrainingImagePath = \"C:\\\\Users\\\\hp\\\\Desktop\\\\Additional Projects\\\\archive (4)\\\\Train\""
   ]
  },
  {
   "cell_type": "code",
   "execution_count": 3,
   "id": "da596b09",
   "metadata": {},
   "outputs": [],
   "source": [
    "validationImagePath = \"C:\\\\Users\\\\hp\\\\Desktop\\\\Additional Projects\\\\archive (4)\\\\Test\""
   ]
  },
  {
   "cell_type": "code",
   "execution_count": 4,
   "id": "0b3a86e5",
   "metadata": {},
   "outputs": [],
   "source": [
    "from keras.preprocessing.image import ImageDataGenerator"
   ]
  },
  {
   "cell_type": "code",
   "execution_count": null,
   "id": "cbf13ae5",
   "metadata": {},
   "outputs": [],
   "source": []
  },
  {
   "cell_type": "markdown",
   "id": "6310bb53",
   "metadata": {},
   "source": [
    "# base model"
   ]
  },
  {
   "cell_type": "code",
   "execution_count": 5,
   "id": "13be2a8a",
   "metadata": {},
   "outputs": [],
   "source": [
    "train_datagen = ImageDataGenerator(rescale = 1./225)"
   ]
  },
  {
   "cell_type": "code",
   "execution_count": 6,
   "id": "2c1a367d",
   "metadata": {},
   "outputs": [],
   "source": [
    "test_datagen = ImageDataGenerator(rescale = 1./225)"
   ]
  },
  {
   "cell_type": "code",
   "execution_count": null,
   "id": "e16517fb",
   "metadata": {},
   "outputs": [],
   "source": []
  },
  {
   "cell_type": "markdown",
   "id": "05629fdb",
   "metadata": {},
   "source": [
    "# Generating the training data"
   ]
  },
  {
   "cell_type": "code",
   "execution_count": 7,
   "id": "dfa42c58",
   "metadata": {},
   "outputs": [
    {
     "name": "stdout",
     "output_type": "stream",
     "text": [
      "Found 200 images belonging to 5 classes.\n"
     ]
    }
   ],
   "source": [
    "training_set = train_datagen.flow_from_directory(TrainingImagePath,\n",
    "                                                target_size = (64,64),\n",
    "                                                batch_size = 20,\n",
    "                                                class_mode = 'categorical')"
   ]
  },
  {
   "cell_type": "markdown",
   "id": "2c15810a",
   "metadata": {},
   "source": [
    "# Validation set"
   ]
  },
  {
   "cell_type": "markdown",
   "id": "89184fb6",
   "metadata": {},
   "source": [
    "# Generating the validation data"
   ]
  },
  {
   "cell_type": "code",
   "execution_count": 8,
   "id": "3cc075fc",
   "metadata": {},
   "outputs": [
    {
     "name": "stdout",
     "output_type": "stream",
     "text": [
      "Found 40 images belonging to 5 classes.\n"
     ]
    }
   ],
   "source": [
    "validation_set = test_datagen.flow_from_directory(validationImagePath,\n",
    "                                                target_size = (64,64),\n",
    "                                                batch_size = 20,\n",
    "                                                class_mode = 'categorical')"
   ]
  },
  {
   "cell_type": "markdown",
   "id": "a582b592",
   "metadata": {},
   "source": [
    "# Libraries and model type"
   ]
  },
  {
   "cell_type": "code",
   "execution_count": 9,
   "id": "da12711f",
   "metadata": {},
   "outputs": [],
   "source": [
    "# Create CNN Deep learning model"
   ]
  },
  {
   "cell_type": "code",
   "execution_count": 10,
   "id": "ece0fe30",
   "metadata": {},
   "outputs": [],
   "source": [
    "from keras.models import Sequential\n",
    "from keras.layers import Convolution2D\n",
    "from keras.layers import MaxPool2D\n",
    "from keras.layers import Flatten\n",
    "from keras.layers import Dense"
   ]
  },
  {
   "cell_type": "code",
   "execution_count": 11,
   "id": "3d7d10e1",
   "metadata": {},
   "outputs": [],
   "source": [
    "# Initializing the Convolutional Neural Network"
   ]
  },
  {
   "cell_type": "code",
   "execution_count": 12,
   "id": "2fff8cc7",
   "metadata": {},
   "outputs": [],
   "source": [
    "classifier = Sequential()"
   ]
  },
  {
   "cell_type": "markdown",
   "id": "4cfe1d78",
   "metadata": {},
   "source": [
    "# MODEL"
   ]
  },
  {
   "cell_type": "code",
   "execution_count": 13,
   "id": "696f26c2",
   "metadata": {},
   "outputs": [],
   "source": [
    "# STEP 1 Convolution\n",
    "# Adding the first layer of CNN\n",
    "# We are using the format (64,64,3) because we are using Tensorflow backend\n",
    "# It means 3 matrix of size (64x64) pixels representing Red, Green and Blue components of pixels"
   ]
  },
  {
   "cell_type": "code",
   "execution_count": 14,
   "id": "32963cf9",
   "metadata": {},
   "outputs": [],
   "source": [
    "classifier.add(Convolution2D(32, kernel_size=(3,3),\n",
    "                            input_shape=(64,64,3), activation ='relu'))"
   ]
  },
  {
   "cell_type": "code",
   "execution_count": 15,
   "id": "afeee109",
   "metadata": {},
   "outputs": [],
   "source": [
    "#STEP 2- Max Pooling"
   ]
  },
  {
   "cell_type": "code",
   "execution_count": 16,
   "id": "89846aab",
   "metadata": {},
   "outputs": [],
   "source": [
    "classifier.add(MaxPool2D(pool_size=(2,2)))"
   ]
  },
  {
   "cell_type": "code",
   "execution_count": 17,
   "id": "2a5d6184",
   "metadata": {},
   "outputs": [],
   "source": [
    "# Additional layer of convolution for better accuracy"
   ]
  },
  {
   "cell_type": "code",
   "execution_count": 18,
   "id": "1170bde1",
   "metadata": {},
   "outputs": [],
   "source": [
    "classifier.add(Convolution2D(64, kernel_size=(3,3), activation='relu'))"
   ]
  },
  {
   "cell_type": "code",
   "execution_count": 19,
   "id": "26797a27",
   "metadata": {},
   "outputs": [],
   "source": [
    "classifier.add(MaxPool2D(pool_size=(2,2)))"
   ]
  },
  {
   "cell_type": "code",
   "execution_count": 20,
   "id": "bc9a28df",
   "metadata": {},
   "outputs": [],
   "source": [
    "#STEP 3- Flattening"
   ]
  },
  {
   "cell_type": "code",
   "execution_count": 21,
   "id": "abef6142",
   "metadata": {},
   "outputs": [],
   "source": [
    "classifier.add(Flatten())"
   ]
  },
  {
   "cell_type": "code",
   "execution_count": 22,
   "id": "c0807f04",
   "metadata": {},
   "outputs": [],
   "source": [
    "#STEP 4 - Fully connected neural network"
   ]
  },
  {
   "cell_type": "code",
   "execution_count": 23,
   "id": "5bc26754",
   "metadata": {},
   "outputs": [],
   "source": [
    "classifier.add(Dense(64, activation='relu'))"
   ]
  },
  {
   "cell_type": "code",
   "execution_count": 32,
   "id": "ab05d9c6",
   "metadata": {},
   "outputs": [],
   "source": [
    "classifier.add(Dense(5, activation='softmax'))"
   ]
  },
  {
   "cell_type": "code",
   "execution_count": 33,
   "id": "1521fca7",
   "metadata": {},
   "outputs": [
    {
     "name": "stdout",
     "output_type": "stream",
     "text": [
      "Model: \"sequential\"\n",
      "_________________________________________________________________\n",
      " Layer (type)                Output Shape              Param #   \n",
      "=================================================================\n",
      " conv2d (Conv2D)             (None, 62, 62, 32)        896       \n",
      "                                                                 \n",
      " max_pooling2d (MaxPooling2D  (None, 31, 31, 32)       0         \n",
      " )                                                               \n",
      "                                                                 \n",
      " conv2d_1 (Conv2D)           (None, 29, 29, 64)        18496     \n",
      "                                                                 \n",
      " max_pooling2d_1 (MaxPooling  (None, 14, 14, 64)       0         \n",
      " 2D)                                                             \n",
      "                                                                 \n",
      " flatten (Flatten)           (None, 12544)             0         \n",
      "                                                                 \n",
      " dense (Dense)               (None, 64)                802880    \n",
      "                                                                 \n",
      " dense_1 (Dense)             (None, 25)                1625      \n",
      "                                                                 \n",
      " dense_2 (Dense)             (None, 5)                 130       \n",
      "                                                                 \n",
      "=================================================================\n",
      "Total params: 824,027\n",
      "Trainable params: 824,027\n",
      "Non-trainable params: 0\n",
      "_________________________________________________________________\n"
     ]
    }
   ],
   "source": [
    "classifier.summary()"
   ]
  },
  {
   "cell_type": "markdown",
   "id": "aa3726de",
   "metadata": {},
   "source": [
    "# Compiler"
   ]
  },
  {
   "cell_type": "code",
   "execution_count": 34,
   "id": "b7cdf085",
   "metadata": {},
   "outputs": [],
   "source": [
    "# Compiling the CNN"
   ]
  },
  {
   "cell_type": "code",
   "execution_count": 35,
   "id": "21641481",
   "metadata": {},
   "outputs": [],
   "source": [
    "classifier.compile(loss='categorical_crossentropy',\n",
    "                  optimizer = 'adam', metrics =['accuracy'])"
   ]
  },
  {
   "cell_type": "code",
   "execution_count": null,
   "id": "49617aad",
   "metadata": {},
   "outputs": [],
   "source": []
  },
  {
   "cell_type": "markdown",
   "id": "e1a12966",
   "metadata": {},
   "source": [
    "# Execution of model"
   ]
  },
  {
   "cell_type": "code",
   "execution_count": 36,
   "id": "36a06941",
   "metadata": {},
   "outputs": [],
   "source": [
    "# Starting the model training"
   ]
  },
  {
   "cell_type": "code",
   "execution_count": 38,
   "id": "48f4fa72",
   "metadata": {},
   "outputs": [
    {
     "name": "stdout",
     "output_type": "stream",
     "text": [
      "Epoch 1/20\n",
      " 1/10 [==>...........................] - ETA: 0s - loss: 1.1123 - accuracy: 0.8500"
     ]
    },
    {
     "name": "stderr",
     "output_type": "stream",
     "text": [
      "C:\\Users\\hp\\AppData\\Local\\Temp\\ipykernel_8832\\2354014473.py:1: UserWarning: `Model.fit_generator` is deprecated and will be removed in a future version. Please use `Model.fit`, which supports generators.\n",
      "  history = classifier.fit_generator(training_set, epochs =20,\n"
     ]
    },
    {
     "name": "stdout",
     "output_type": "stream",
     "text": [
      "10/10 [==============================] - 1s 97ms/step - loss: 1.1098 - accuracy: 0.8000 - val_loss: 1.1394 - val_accuracy: 0.7250\n",
      "Epoch 2/20\n",
      "10/10 [==============================] - 1s 88ms/step - loss: 1.0997 - accuracy: 0.8000 - val_loss: 1.1301 - val_accuracy: 0.7500\n",
      "Epoch 3/20\n",
      "10/10 [==============================] - 1s 86ms/step - loss: 1.0900 - accuracy: 0.8000 - val_loss: 1.1214 - val_accuracy: 0.7250\n",
      "Epoch 4/20\n",
      "10/10 [==============================] - 1s 85ms/step - loss: 1.0800 - accuracy: 0.8000 - val_loss: 1.1131 - val_accuracy: 0.7250\n",
      "Epoch 5/20\n",
      "10/10 [==============================] - 1s 83ms/step - loss: 1.0704 - accuracy: 0.8000 - val_loss: 1.1045 - val_accuracy: 0.7250\n",
      "Epoch 6/20\n",
      "10/10 [==============================] - 1s 83ms/step - loss: 1.0608 - accuracy: 0.8000 - val_loss: 1.0959 - val_accuracy: 0.7250\n",
      "Epoch 7/20\n",
      "10/10 [==============================] - 1s 88ms/step - loss: 1.0517 - accuracy: 0.8000 - val_loss: 1.0869 - val_accuracy: 0.7250\n",
      "Epoch 8/20\n",
      "10/10 [==============================] - 1s 86ms/step - loss: 1.0423 - accuracy: 0.8000 - val_loss: 1.0802 - val_accuracy: 0.7250\n",
      "Epoch 9/20\n",
      "10/10 [==============================] - 1s 85ms/step - loss: 1.0331 - accuracy: 0.8000 - val_loss: 1.0717 - val_accuracy: 0.7250\n",
      "Epoch 10/20\n",
      "10/10 [==============================] - 1s 90ms/step - loss: 1.0241 - accuracy: 0.8000 - val_loss: 1.0634 - val_accuracy: 0.7250\n",
      "Epoch 11/20\n",
      "10/10 [==============================] - 1s 90ms/step - loss: 1.0153 - accuracy: 0.8000 - val_loss: 1.0548 - val_accuracy: 0.7250\n",
      "Epoch 12/20\n",
      "10/10 [==============================] - 1s 96ms/step - loss: 1.0065 - accuracy: 0.8000 - val_loss: 1.0468 - val_accuracy: 0.7250\n",
      "Epoch 13/20\n",
      "10/10 [==============================] - 1s 94ms/step - loss: 0.9979 - accuracy: 0.8000 - val_loss: 1.0393 - val_accuracy: 0.7250\n",
      "Epoch 14/20\n",
      "10/10 [==============================] - 1s 92ms/step - loss: 0.9895 - accuracy: 0.8000 - val_loss: 1.0316 - val_accuracy: 0.7250\n",
      "Epoch 15/20\n",
      "10/10 [==============================] - 1s 98ms/step - loss: 0.9810 - accuracy: 0.8000 - val_loss: 1.0244 - val_accuracy: 0.7250\n",
      "Epoch 16/20\n",
      "10/10 [==============================] - 1s 92ms/step - loss: 0.9727 - accuracy: 0.8000 - val_loss: 1.0155 - val_accuracy: 0.7250\n",
      "Epoch 17/20\n",
      "10/10 [==============================] - 1s 91ms/step - loss: 0.9645 - accuracy: 0.8000 - val_loss: 1.0090 - val_accuracy: 0.7250\n",
      "Epoch 18/20\n",
      "10/10 [==============================] - 1s 90ms/step - loss: 0.9565 - accuracy: 0.8000 - val_loss: 1.0006 - val_accuracy: 0.7250\n",
      "Epoch 19/20\n",
      "10/10 [==============================] - 1s 91ms/step - loss: 0.9484 - accuracy: 0.8000 - val_loss: 0.9947 - val_accuracy: 0.7250\n",
      "Epoch 20/20\n",
      "10/10 [==============================] - 1s 87ms/step - loss: 0.9406 - accuracy: 0.8000 - val_loss: 0.9861 - val_accuracy: 0.7250\n"
     ]
    }
   ],
   "source": [
    "history = classifier.fit_generator(training_set, epochs =20,\n",
    "                                  validation_data=validation_set)"
   ]
  },
  {
   "cell_type": "markdown",
   "id": "a667778a",
   "metadata": {},
   "source": [
    "# Accuracy base model"
   ]
  },
  {
   "cell_type": "code",
   "execution_count": 39,
   "id": "da29d502",
   "metadata": {},
   "outputs": [],
   "source": [
    "#Displaying curves of loss and accuracy during training"
   ]
  },
  {
   "cell_type": "code",
   "execution_count": 40,
   "id": "6a3b388c",
   "metadata": {},
   "outputs": [],
   "source": [
    "import matplotlib.pyplot as plt"
   ]
  },
  {
   "cell_type": "code",
   "execution_count": 41,
   "id": "a2f54536",
   "metadata": {},
   "outputs": [],
   "source": [
    "acc = history.history['accuracy']"
   ]
  },
  {
   "cell_type": "code",
   "execution_count": 42,
   "id": "4d3c58b8",
   "metadata": {},
   "outputs": [],
   "source": [
    "val_acc = history.history['val_accuracy']"
   ]
  },
  {
   "cell_type": "code",
   "execution_count": 43,
   "id": "c4eade01",
   "metadata": {},
   "outputs": [],
   "source": [
    "loss = history.history['loss']"
   ]
  },
  {
   "cell_type": "code",
   "execution_count": 44,
   "id": "e04e4857",
   "metadata": {},
   "outputs": [],
   "source": [
    "val_loss = history.history['val_loss']"
   ]
  },
  {
   "cell_type": "code",
   "execution_count": 45,
   "id": "30d0b84f",
   "metadata": {},
   "outputs": [],
   "source": [
    "epochs = range(1, len(acc) + 1)"
   ]
  },
  {
   "cell_type": "code",
   "execution_count": 46,
   "id": "7002cc49",
   "metadata": {},
   "outputs": [
    {
     "data": {
      "text/plain": [
       "<Figure size 432x288 with 0 Axes>"
      ]
     },
     "execution_count": 46,
     "metadata": {},
     "output_type": "execute_result"
    },
    {
     "data": {
      "image/png": "[encoded data removed]",
      "text/plain": [
       "<Figure size 432x288 with 1 Axes>"
      ]
     },
     "metadata": {
      "needs_background": "light"
     },
     "output_type": "display_data"
    },
    {
     "data": {
      "text/plain": [
       "<Figure size 432x288 with 0 Axes>"
      ]
     },
     "metadata": {},
     "output_type": "display_data"
    }
   ],
   "source": [
    "plt.plot(epochs, acc, 'bo', label='Training acc')\n",
    "plt.plot(epochs, val_acc, 'r', label='Validation acc')\n",
    "plt.title('Training and validation accuracy')\n",
    "plt.legend()\n",
    "plt.figure()"
   ]
  },
  {
   "cell_type": "code",
   "execution_count": null,
   "id": "eebe280e",
   "metadata": {},
   "outputs": [],
   "source": []
  },
  {
   "cell_type": "markdown",
   "id": "e204e892",
   "metadata": {},
   "source": [
    "# Loss base model"
   ]
  },
  {
   "cell_type": "code",
   "execution_count": 47,
   "id": "11e1d8e3",
   "metadata": {},
   "outputs": [
    {
     "data": {
      "text/plain": [
       "<Figure size 432x288 with 0 Axes>"
      ]
     },
     "execution_count": 47,
     "metadata": {},
     "output_type": "execute_result"
    },
    {
     "data": {
      "image/png": "[encoded data removed]",
      "text/plain": [
       "<Figure size 432x288 with 1 Axes>"
      ]
     },
     "metadata": {
      "needs_background": "light"
     },
     "output_type": "display_data"
    },
    {
     "data": {
      "text/plain": [
       "<Figure size 432x288 with 0 Axes>"
      ]
     },
     "metadata": {},
     "output_type": "display_data"
    }
   ],
   "source": [
    "plt.plot(epochs, loss, 'bo', label='Training loss')\n",
    "plt.plot(epochs, val_loss, 'r', label='Validation loss')\n",
    "plt.title('Training and validation loss')\n",
    "plt.legend()\n",
    "plt.figure()"
   ]
  },
  {
   "cell_type": "code",
   "execution_count": 48,
   "id": "e42e2f8e",
   "metadata": {},
   "outputs": [],
   "source": [
    "# Lets improve"
   ]
  },
  {
   "cell_type": "markdown",
   "id": "67c72ddf",
   "metadata": {},
   "source": [
    "# Model 2"
   ]
  },
  {
   "cell_type": "code",
   "execution_count": 49,
   "id": "d36a13e2",
   "metadata": {},
   "outputs": [],
   "source": [
    "# Adding parameters in the ImageDatagenerator"
   ]
  },
  {
   "cell_type": "code",
   "execution_count": 50,
   "id": "b327fbe6",
   "metadata": {},
   "outputs": [],
   "source": [
    "train_datagen = ImageDataGenerator(rescale=1./225, shear_range=0.5,\n",
    "                                  zoom_range=0.5, width_shift_range=0.2,\n",
    "                                  height_shift_range=0.2)"
   ]
  },
  {
   "cell_type": "code",
   "execution_count": null,
   "id": "7030e032",
   "metadata": {},
   "outputs": [],
   "source": []
  },
  {
   "cell_type": "code",
   "execution_count": 51,
   "id": "1cc4e1de",
   "metadata": {},
   "outputs": [],
   "source": [
    "# No transformations are done on the testing images"
   ]
  },
  {
   "cell_type": "code",
   "execution_count": 52,
   "id": "c95e3a4b",
   "metadata": {},
   "outputs": [],
   "source": [
    "test_datgen = ImageDataGenerator(rescale=1./225)"
   ]
  },
  {
   "cell_type": "code",
   "execution_count": null,
   "id": "221514c2",
   "metadata": {},
   "outputs": [],
   "source": []
  },
  {
   "cell_type": "code",
   "execution_count": 53,
   "id": "7a842909",
   "metadata": {},
   "outputs": [],
   "source": [
    "# Generating the training data"
   ]
  },
  {
   "cell_type": "code",
   "execution_count": 54,
   "id": "e4eec759",
   "metadata": {},
   "outputs": [
    {
     "name": "stdout",
     "output_type": "stream",
     "text": [
      "Found 200 images belonging to 5 classes.\n"
     ]
    }
   ],
   "source": [
    "training_set = train_datagen.flow_from_directory(TrainingImagePath,\n",
    "                                                target_size=(64,64),\n",
    "                                                batch_size=20,\n",
    "                                                class_mode='categorical')"
   ]
  },
  {
   "cell_type": "code",
   "execution_count": null,
   "id": "8c423eda",
   "metadata": {},
   "outputs": [],
   "source": []
  },
  {
   "cell_type": "code",
   "execution_count": 55,
   "id": "31d3f981",
   "metadata": {},
   "outputs": [],
   "source": [
    "# Generating the validation data"
   ]
  },
  {
   "cell_type": "code",
   "execution_count": 56,
   "id": "2ac9a009",
   "metadata": {},
   "outputs": [
    {
     "name": "stdout",
     "output_type": "stream",
     "text": [
      "Found 40 images belonging to 5 classes.\n"
     ]
    }
   ],
   "source": [
    "validation_set = test_datagen.flow_from_directory(validationImagePath,\n",
    "                                                target_size=(64,64),\n",
    "                                                batch_size=20,\n",
    "                                                class_mode='categorical')"
   ]
  },
  {
   "cell_type": "code",
   "execution_count": null,
   "id": "5aec80d5",
   "metadata": {},
   "outputs": [],
   "source": []
  },
  {
   "cell_type": "code",
   "execution_count": 57,
   "id": "419ed527",
   "metadata": {},
   "outputs": [],
   "source": [
    "#Create Cnn deep learning model"
   ]
  },
  {
   "cell_type": "code",
   "execution_count": 58,
   "id": "dd2270d6",
   "metadata": {},
   "outputs": [],
   "source": [
    "from keras.models import Sequential\n",
    "from keras.layers import Convolution2D\n",
    "from keras.layers import MaxPool2D\n",
    "from keras.layers import Flatten\n",
    "from keras.layers import Dense"
   ]
  },
  {
   "cell_type": "code",
   "execution_count": 59,
   "id": "e7991c5a",
   "metadata": {},
   "outputs": [],
   "source": [
    "# Initializing the Convolutional Neural Network"
   ]
  },
  {
   "cell_type": "code",
   "execution_count": 60,
   "id": "b35b1bd3",
   "metadata": {},
   "outputs": [],
   "source": [
    "classifier = Sequential()"
   ]
  },
  {
   "cell_type": "code",
   "execution_count": 61,
   "id": "675de677",
   "metadata": {},
   "outputs": [],
   "source": [
    "# Convolution"
   ]
  },
  {
   "cell_type": "code",
   "execution_count": 62,
   "id": "41ea7190",
   "metadata": {},
   "outputs": [],
   "source": [
    "classifier.add(Convolution2D(32, kernel_size=(3,3),\n",
    "                            input_shape=(64,64,3), activation ='relu'))"
   ]
  },
  {
   "cell_type": "code",
   "execution_count": 63,
   "id": "67ccb2d7",
   "metadata": {},
   "outputs": [],
   "source": [
    "#Max Pooling"
   ]
  },
  {
   "cell_type": "code",
   "execution_count": 64,
   "id": "4274ae60",
   "metadata": {},
   "outputs": [],
   "source": [
    "classifier.add(MaxPool2D(pool_size=(2,2)))"
   ]
  },
  {
   "cell_type": "code",
   "execution_count": 65,
   "id": "09ee17bb",
   "metadata": {},
   "outputs": [],
   "source": [
    "# Additional layer of convolution for better accuracy"
   ]
  },
  {
   "cell_type": "code",
   "execution_count": 66,
   "id": "59700aaf",
   "metadata": {},
   "outputs": [],
   "source": [
    "classifier.add(Convolution2D(64, kernel_size=(3,3), activation='relu'))"
   ]
  },
  {
   "cell_type": "code",
   "execution_count": 67,
   "id": "6a26d79a",
   "metadata": {},
   "outputs": [],
   "source": [
    "classifier.add(MaxPool2D(pool_size=(2,2)))"
   ]
  },
  {
   "cell_type": "code",
   "execution_count": 68,
   "id": "63e421f6",
   "metadata": {},
   "outputs": [],
   "source": [
    "#Flattening"
   ]
  },
  {
   "cell_type": "code",
   "execution_count": 69,
   "id": "ee3eb2d6",
   "metadata": {},
   "outputs": [],
   "source": [
    "classifier.add(Flatten())"
   ]
  },
  {
   "cell_type": "code",
   "execution_count": 70,
   "id": "521c5572",
   "metadata": {},
   "outputs": [],
   "source": [
    "#Fully connected neural network"
   ]
  },
  {
   "cell_type": "code",
   "execution_count": 71,
   "id": "4b484240",
   "metadata": {},
   "outputs": [],
   "source": [
    "classifier.add(Dense(64, activation='relu'))#hidden layer"
   ]
  },
  {
   "cell_type": "code",
   "execution_count": 72,
   "id": "9c0df7bb",
   "metadata": {},
   "outputs": [],
   "source": [
    "classifier.add(Dense(5, activation='softmax'))#output layer"
   ]
  },
  {
   "cell_type": "code",
   "execution_count": 73,
   "id": "2a29ce4b",
   "metadata": {},
   "outputs": [
    {
     "name": "stdout",
     "output_type": "stream",
     "text": [
      "Model: \"sequential_1\"\n",
      "_________________________________________________________________\n",
      " Layer (type)                Output Shape              Param #   \n",
      "=================================================================\n",
      " conv2d_2 (Conv2D)           (None, 62, 62, 32)        896       \n",
      "                                                                 \n",
      " max_pooling2d_2 (MaxPooling  (None, 31, 31, 32)       0         \n",
      " 2D)                                                             \n",
      "                                                                 \n",
      " conv2d_3 (Conv2D)           (None, 29, 29, 64)        18496     \n",
      "                                                                 \n",
      " max_pooling2d_3 (MaxPooling  (None, 14, 14, 64)       0         \n",
      " 2D)                                                             \n",
      "                                                                 \n",
      " flatten_1 (Flatten)         (None, 12544)             0         \n",
      "                                                                 \n",
      " dense_3 (Dense)             (None, 64)                802880    \n",
      "                                                                 \n",
      " dense_4 (Dense)             (None, 5)                 325       \n",
      "                                                                 \n",
      "=================================================================\n",
      "Total params: 822,597\n",
      "Trainable params: 822,597\n",
      "Non-trainable params: 0\n",
      "_________________________________________________________________\n"
     ]
    }
   ],
   "source": [
    "classifier.summary() "
   ]
  },
  {
   "cell_type": "code",
   "execution_count": 74,
   "id": "10684d06",
   "metadata": {},
   "outputs": [],
   "source": [
    "#Compiler"
   ]
  },
  {
   "cell_type": "code",
   "execution_count": 75,
   "id": "cc589088",
   "metadata": {},
   "outputs": [],
   "source": [
    "classifier.compile(loss='categorical_crossentropy',\n",
    "                  optimizer='adam', metrics=['accuracy'])"
   ]
  },
  {
   "cell_type": "code",
   "execution_count": 76,
   "id": "74654438",
   "metadata": {},
   "outputs": [],
   "source": [
    "#Execute"
   ]
  },
  {
   "cell_type": "code",
   "execution_count": 77,
   "id": "e2cf2a98",
   "metadata": {},
   "outputs": [],
   "source": [
    "#Starting the model training"
   ]
  },
  {
   "cell_type": "code",
   "execution_count": 78,
   "id": "76babdab",
   "metadata": {},
   "outputs": [
    {
     "name": "stdout",
     "output_type": "stream",
     "text": [
      "Epoch 1/100\n"
     ]
    },
    {
     "name": "stderr",
     "output_type": "stream",
     "text": [
      "C:\\Users\\hp\\AppData\\Local\\Temp\\ipykernel_8832\\346272482.py:1: UserWarning: `Model.fit_generator` is deprecated and will be removed in a future version. Please use `Model.fit`, which supports generators.\n",
      "  history = classifier.fit_generator(training_set, epochs =100,\n"
     ]
    },
    {
     "name": "stdout",
     "output_type": "stream",
     "text": [
      "10/10 [==============================] - 3s 165ms/step - loss: 1.7788 - accuracy: 0.1750 - val_loss: 1.5999 - val_accuracy: 0.3250\n",
      "Epoch 2/100\n",
      "10/10 [==============================] - 1s 119ms/step - loss: 1.6115 - accuracy: 0.2300 - val_loss: 1.6064 - val_accuracy: 0.2000\n",
      "Epoch 3/100\n",
      "10/10 [==============================] - 1s 113ms/step - loss: 1.6039 - accuracy: 0.2250 - val_loss: 1.5275 - val_accuracy: 0.3750\n",
      "Epoch 4/100\n",
      "10/10 [==============================] - 1s 124ms/step - loss: 1.5676 - accuracy: 0.2750 - val_loss: 1.3246 - val_accuracy: 0.6500\n",
      "Epoch 5/100\n",
      "10/10 [==============================] - 1s 121ms/step - loss: 1.5072 - accuracy: 0.3700 - val_loss: 0.9789 - val_accuracy: 0.7250\n",
      "Epoch 6/100\n",
      "10/10 [==============================] - 1s 118ms/step - loss: 1.3781 - accuracy: 0.4600 - val_loss: 0.7243 - val_accuracy: 0.7750\n",
      "Epoch 7/100\n",
      "10/10 [==============================] - 1s 131ms/step - loss: 1.2344 - accuracy: 0.5200 - val_loss: 0.6849 - val_accuracy: 0.6250\n",
      "Epoch 8/100\n",
      "10/10 [==============================] - 1s 132ms/step - loss: 1.2723 - accuracy: 0.5100 - val_loss: 0.6030 - val_accuracy: 0.7750\n",
      "Epoch 9/100\n",
      "10/10 [==============================] - 1s 131ms/step - loss: 1.1765 - accuracy: 0.5000 - val_loss: 0.5626 - val_accuracy: 0.7750\n",
      "Epoch 10/100\n",
      "10/10 [==============================] - 1s 99ms/step - loss: 1.1888 - accuracy: 0.5300 - val_loss: 0.6490 - val_accuracy: 0.8000\n",
      "Epoch 11/100\n",
      "10/10 [==============================] - 1s 106ms/step - loss: 1.1542 - accuracy: 0.5300 - val_loss: 0.8059 - val_accuracy: 0.7500\n",
      "Epoch 12/100\n",
      "10/10 [==============================] - 1s 114ms/step - loss: 1.0328 - accuracy: 0.6000 - val_loss: 0.4655 - val_accuracy: 0.8000\n",
      "Epoch 13/100\n",
      "10/10 [==============================] - 1s 116ms/step - loss: 0.9294 - accuracy: 0.6550 - val_loss: 0.6220 - val_accuracy: 0.7750\n",
      "Epoch 14/100\n",
      "10/10 [==============================] - 1s 117ms/step - loss: 1.0088 - accuracy: 0.5800 - val_loss: 0.6387 - val_accuracy: 0.7750\n",
      "Epoch 15/100\n",
      "10/10 [==============================] - 1s 112ms/step - loss: 1.1555 - accuracy: 0.6000 - val_loss: 0.4377 - val_accuracy: 0.8500\n",
      "Epoch 16/100\n",
      "10/10 [==============================] - 1s 118ms/step - loss: 0.9853 - accuracy: 0.6550 - val_loss: 0.5738 - val_accuracy: 0.7500\n",
      "Epoch 17/100\n",
      "10/10 [==============================] - 1s 114ms/step - loss: 0.7781 - accuracy: 0.6850 - val_loss: 0.7305 - val_accuracy: 0.7750\n",
      "Epoch 18/100\n",
      "10/10 [==============================] - 1s 127ms/step - loss: 0.8467 - accuracy: 0.6950 - val_loss: 1.3063 - val_accuracy: 0.6750\n",
      "Epoch 19/100\n",
      "10/10 [==============================] - 1s 115ms/step - loss: 0.9094 - accuracy: 0.6500 - val_loss: 1.0991 - val_accuracy: 0.6500\n",
      "Epoch 20/100\n",
      "10/10 [==============================] - 1s 104ms/step - loss: 0.8189 - accuracy: 0.7050 - val_loss: 0.8124 - val_accuracy: 0.8000\n",
      "Epoch 21/100\n",
      "10/10 [==============================] - 1s 97ms/step - loss: 0.8053 - accuracy: 0.6900 - val_loss: 1.2307 - val_accuracy: 0.6250\n",
      "Epoch 22/100\n",
      "10/10 [==============================] - 1s 101ms/step - loss: 0.7409 - accuracy: 0.7000 - val_loss: 0.9374 - val_accuracy: 0.7750\n",
      "Epoch 23/100\n",
      "10/10 [==============================] - 1s 100ms/step - loss: 0.7585 - accuracy: 0.6850 - val_loss: 1.0721 - val_accuracy: 0.7500\n",
      "Epoch 24/100\n",
      "10/10 [==============================] - 1s 124ms/step - loss: 0.7374 - accuracy: 0.7150 - val_loss: 1.1510 - val_accuracy: 0.7000\n",
      "Epoch 25/100\n",
      "10/10 [==============================] - 1s 104ms/step - loss: 0.8252 - accuracy: 0.7300 - val_loss: 0.9753 - val_accuracy: 0.8000\n",
      "Epoch 26/100\n",
      "10/10 [==============================] - 1s 101ms/step - loss: 0.6799 - accuracy: 0.7450 - val_loss: 1.0712 - val_accuracy: 0.7250\n",
      "Epoch 27/100\n",
      "10/10 [==============================] - 1s 101ms/step - loss: 0.7896 - accuracy: 0.7000 - val_loss: 1.2680 - val_accuracy: 0.7250\n",
      "Epoch 28/100\n",
      "10/10 [==============================] - 1s 102ms/step - loss: 0.6754 - accuracy: 0.7200 - val_loss: 0.8551 - val_accuracy: 0.8000\n",
      "Epoch 29/100\n",
      "10/10 [==============================] - 1s 104ms/step - loss: 0.6497 - accuracy: 0.7650 - val_loss: 0.8657 - val_accuracy: 0.8000\n",
      "Epoch 30/100\n",
      "10/10 [==============================] - 1s 125ms/step - loss: 0.6234 - accuracy: 0.7750 - val_loss: 0.9827 - val_accuracy: 0.7500\n",
      "Epoch 31/100\n",
      "10/10 [==============================] - 1s 130ms/step - loss: 0.6234 - accuracy: 0.7400 - val_loss: 1.3237 - val_accuracy: 0.6750\n",
      "Epoch 32/100\n",
      "10/10 [==============================] - 1s 134ms/step - loss: 0.6125 - accuracy: 0.7800 - val_loss: 1.2616 - val_accuracy: 0.7000\n",
      "Epoch 33/100\n",
      "10/10 [==============================] - 1s 143ms/step - loss: 0.6718 - accuracy: 0.7150 - val_loss: 1.0544 - val_accuracy: 0.7500\n",
      "Epoch 34/100\n",
      "10/10 [==============================] - 1s 114ms/step - loss: 0.6829 - accuracy: 0.7850 - val_loss: 0.6790 - val_accuracy: 0.8000\n",
      "Epoch 35/100\n",
      "10/10 [==============================] - 1s 117ms/step - loss: 0.6723 - accuracy: 0.7250 - val_loss: 1.7484 - val_accuracy: 0.6250\n",
      "Epoch 36/100\n",
      "10/10 [==============================] - 1s 123ms/step - loss: 0.6565 - accuracy: 0.7450 - val_loss: 0.7389 - val_accuracy: 0.8000\n",
      "Epoch 37/100\n",
      "10/10 [==============================] - 1s 115ms/step - loss: 0.5897 - accuracy: 0.8000 - val_loss: 0.8361 - val_accuracy: 0.8000\n",
      "Epoch 38/100\n",
      "10/10 [==============================] - 1s 110ms/step - loss: 0.5235 - accuracy: 0.8200 - val_loss: 0.9929 - val_accuracy: 0.8000\n",
      "Epoch 39/100\n",
      "10/10 [==============================] - 1s 112ms/step - loss: 0.5291 - accuracy: 0.7950 - val_loss: 1.5096 - val_accuracy: 0.8000\n",
      "Epoch 40/100\n",
      "10/10 [==============================] - 1s 121ms/step - loss: 0.5901 - accuracy: 0.7550 - val_loss: 0.5814 - val_accuracy: 0.8000\n",
      "Epoch 41/100\n",
      "10/10 [==============================] - 1s 117ms/step - loss: 0.5050 - accuracy: 0.8200 - val_loss: 0.4847 - val_accuracy: 0.8250\n",
      "Epoch 42/100\n",
      "10/10 [==============================] - 1s 114ms/step - loss: 0.4649 - accuracy: 0.8150 - val_loss: 1.0834 - val_accuracy: 0.7750\n",
      "Epoch 43/100\n",
      "10/10 [==============================] - 1s 107ms/step - loss: 0.4658 - accuracy: 0.8350 - val_loss: 0.5401 - val_accuracy: 0.8250\n",
      "Epoch 44/100\n",
      "10/10 [==============================] - 1s 105ms/step - loss: 0.4931 - accuracy: 0.8250 - val_loss: 0.5368 - val_accuracy: 0.8000\n",
      "Epoch 45/100\n",
      "10/10 [==============================] - 1s 108ms/step - loss: 0.7100 - accuracy: 0.7300 - val_loss: 0.8405 - val_accuracy: 0.7000\n",
      "Epoch 46/100\n",
      "10/10 [==============================] - 1s 105ms/step - loss: 0.5571 - accuracy: 0.7600 - val_loss: 0.7460 - val_accuracy: 0.7500\n",
      "Epoch 47/100\n",
      "10/10 [==============================] - 1s 100ms/step - loss: 0.5014 - accuracy: 0.8350 - val_loss: 0.2999 - val_accuracy: 0.8750\n",
      "Epoch 48/100\n",
      "10/10 [==============================] - 1s 102ms/step - loss: 0.4315 - accuracy: 0.8400 - val_loss: 0.7829 - val_accuracy: 0.8000\n",
      "Epoch 49/100\n",
      "10/10 [==============================] - 1s 102ms/step - loss: 0.4636 - accuracy: 0.8200 - val_loss: 0.4836 - val_accuracy: 0.8500\n",
      "Epoch 50/100\n",
      "10/10 [==============================] - 1s 101ms/step - loss: 0.4821 - accuracy: 0.8150 - val_loss: 0.2841 - val_accuracy: 0.8750\n",
      "Epoch 51/100\n",
      "10/10 [==============================] - 1s 103ms/step - loss: 0.4118 - accuracy: 0.8450 - val_loss: 0.4582 - val_accuracy: 0.8500\n",
      "Epoch 52/100\n",
      "10/10 [==============================] - 1s 103ms/step - loss: 0.3668 - accuracy: 0.8800 - val_loss: 0.9715 - val_accuracy: 0.8000\n",
      "Epoch 53/100\n",
      "10/10 [==============================] - 1s 101ms/step - loss: 0.4582 - accuracy: 0.8350 - val_loss: 0.7178 - val_accuracy: 0.8000\n",
      "Epoch 54/100\n",
      "10/10 [==============================] - 1s 96ms/step - loss: 0.4409 - accuracy: 0.8450 - val_loss: 0.2472 - val_accuracy: 0.8750\n",
      "Epoch 55/100\n",
      "10/10 [==============================] - 1s 105ms/step - loss: 0.4414 - accuracy: 0.8200 - val_loss: 0.7936 - val_accuracy: 0.8000\n",
      "Epoch 56/100\n",
      "10/10 [==============================] - 1s 102ms/step - loss: 0.4070 - accuracy: 0.8350 - val_loss: 0.8851 - val_accuracy: 0.8000\n",
      "Epoch 57/100\n",
      "10/10 [==============================] - 1s 101ms/step - loss: 0.3402 - accuracy: 0.8550 - val_loss: 0.7260 - val_accuracy: 0.8000\n",
      "Epoch 58/100\n"
     ]
    },
    {
     "name": "stdout",
     "output_type": "stream",
     "text": [
      "10/10 [==============================] - 1s 103ms/step - loss: 0.3614 - accuracy: 0.8800 - val_loss: 0.5949 - val_accuracy: 0.8250\n",
      "Epoch 59/100\n",
      "10/10 [==============================] - 1s 100ms/step - loss: 0.3524 - accuracy: 0.8500 - val_loss: 0.8576 - val_accuracy: 0.8000\n",
      "Epoch 60/100\n",
      "10/10 [==============================] - 1s 108ms/step - loss: 0.4509 - accuracy: 0.8300 - val_loss: 0.4797 - val_accuracy: 0.8500\n",
      "Epoch 61/100\n",
      "10/10 [==============================] - 1s 103ms/step - loss: 0.4162 - accuracy: 0.8250 - val_loss: 0.8644 - val_accuracy: 0.7750\n",
      "Epoch 62/100\n",
      "10/10 [==============================] - 1s 103ms/step - loss: 0.3773 - accuracy: 0.8600 - val_loss: 0.8002 - val_accuracy: 0.8000\n",
      "Epoch 63/100\n",
      "10/10 [==============================] - 1s 101ms/step - loss: 0.3018 - accuracy: 0.8900 - val_loss: 0.9627 - val_accuracy: 0.8000\n",
      "Epoch 64/100\n",
      "10/10 [==============================] - 1s 105ms/step - loss: 0.3428 - accuracy: 0.8850 - val_loss: 0.3188 - val_accuracy: 0.8750\n",
      "Epoch 65/100\n",
      "10/10 [==============================] - 1s 104ms/step - loss: 0.2330 - accuracy: 0.9150 - val_loss: 1.6527 - val_accuracy: 0.6750\n",
      "Epoch 66/100\n",
      "10/10 [==============================] - 1s 101ms/step - loss: 0.4493 - accuracy: 0.8550 - val_loss: 0.3574 - val_accuracy: 0.8750\n",
      "Epoch 67/100\n",
      "10/10 [==============================] - 1s 98ms/step - loss: 0.3561 - accuracy: 0.8750 - val_loss: 0.7118 - val_accuracy: 0.8250\n",
      "Epoch 68/100\n",
      "10/10 [==============================] - 1s 105ms/step - loss: 0.3422 - accuracy: 0.8950 - val_loss: 0.6569 - val_accuracy: 0.8250\n",
      "Epoch 69/100\n",
      "10/10 [==============================] - 1s 105ms/step - loss: 0.3350 - accuracy: 0.8700 - val_loss: 0.5691 - val_accuracy: 0.8250\n",
      "Epoch 70/100\n",
      "10/10 [==============================] - 1s 96ms/step - loss: 0.2859 - accuracy: 0.8850 - val_loss: 0.8958 - val_accuracy: 0.8000\n",
      "Epoch 71/100\n",
      "10/10 [==============================] - 1s 106ms/step - loss: 0.2919 - accuracy: 0.8800 - val_loss: 0.8917 - val_accuracy: 0.8000\n",
      "Epoch 72/100\n",
      "10/10 [==============================] - 1s 101ms/step - loss: 0.2593 - accuracy: 0.8950 - val_loss: 0.2570 - val_accuracy: 0.8750\n",
      "Epoch 73/100\n",
      "10/10 [==============================] - 1s 99ms/step - loss: 0.3199 - accuracy: 0.9050 - val_loss: 0.5175 - val_accuracy: 0.8500\n",
      "Epoch 74/100\n",
      "10/10 [==============================] - 1s 102ms/step - loss: 0.3430 - accuracy: 0.8750 - val_loss: 0.6208 - val_accuracy: 0.8500\n",
      "Epoch 75/100\n",
      "10/10 [==============================] - 1s 103ms/step - loss: 0.3807 - accuracy: 0.8500 - val_loss: 0.4630 - val_accuracy: 0.8500\n",
      "Epoch 76/100\n",
      "10/10 [==============================] - 1s 104ms/step - loss: 0.3167 - accuracy: 0.8600 - val_loss: 0.4816 - val_accuracy: 0.8500\n",
      "Epoch 77/100\n",
      "10/10 [==============================] - 1s 100ms/step - loss: 0.3043 - accuracy: 0.8900 - val_loss: 1.1058 - val_accuracy: 0.8000\n",
      "Epoch 78/100\n",
      "10/10 [==============================] - 1s 98ms/step - loss: 0.2485 - accuracy: 0.9150 - val_loss: 0.4106 - val_accuracy: 0.8500\n",
      "Epoch 79/100\n",
      "10/10 [==============================] - 1s 100ms/step - loss: 0.2191 - accuracy: 0.9000 - val_loss: 0.6029 - val_accuracy: 0.8500\n",
      "Epoch 80/100\n",
      "10/10 [==============================] - 1s 102ms/step - loss: 0.2087 - accuracy: 0.9200 - val_loss: 0.4473 - val_accuracy: 0.8500\n",
      "Epoch 81/100\n",
      "10/10 [==============================] - 1s 101ms/step - loss: 0.2897 - accuracy: 0.8900 - val_loss: 0.8062 - val_accuracy: 0.8250\n",
      "Epoch 82/100\n",
      "10/10 [==============================] - 1s 108ms/step - loss: 0.2758 - accuracy: 0.9100 - val_loss: 0.5333 - val_accuracy: 0.8500\n",
      "Epoch 83/100\n",
      "10/10 [==============================] - 1s 98ms/step - loss: 0.2945 - accuracy: 0.8700 - val_loss: 0.2183 - val_accuracy: 0.9000\n",
      "Epoch 84/100\n",
      "10/10 [==============================] - 1s 100ms/step - loss: 0.3568 - accuracy: 0.8750 - val_loss: 0.3667 - val_accuracy: 0.8500\n",
      "Epoch 85/100\n",
      "10/10 [==============================] - 1s 104ms/step - loss: 0.2773 - accuracy: 0.8850 - val_loss: 0.5225 - val_accuracy: 0.8500\n",
      "Epoch 86/100\n",
      "10/10 [==============================] - 1s 102ms/step - loss: 0.2469 - accuracy: 0.9100 - val_loss: 0.4991 - val_accuracy: 0.8500\n",
      "Epoch 87/100\n",
      "10/10 [==============================] - 1s 99ms/step - loss: 0.2698 - accuracy: 0.9050 - val_loss: 0.4236 - val_accuracy: 0.8500\n",
      "Epoch 88/100\n",
      "10/10 [==============================] - 1s 100ms/step - loss: 0.2150 - accuracy: 0.9150 - val_loss: 1.0525 - val_accuracy: 0.8000\n",
      "Epoch 89/100\n",
      "10/10 [==============================] - 1s 99ms/step - loss: 0.2213 - accuracy: 0.9300 - val_loss: 0.7429 - val_accuracy: 0.8250\n",
      "Epoch 90/100\n",
      "10/10 [==============================] - 1s 107ms/step - loss: 0.2602 - accuracy: 0.9000 - val_loss: 0.1721 - val_accuracy: 0.8750\n",
      "Epoch 91/100\n",
      "10/10 [==============================] - 1s 107ms/step - loss: 0.2393 - accuracy: 0.9000 - val_loss: 0.6773 - val_accuracy: 0.8500\n",
      "Epoch 92/100\n",
      "10/10 [==============================] - 1s 105ms/step - loss: 0.2355 - accuracy: 0.9300 - val_loss: 0.5102 - val_accuracy: 0.8500\n",
      "Epoch 93/100\n",
      "10/10 [==============================] - 1s 98ms/step - loss: 0.1621 - accuracy: 0.9400 - val_loss: 0.5843 - val_accuracy: 0.8500\n",
      "Epoch 94/100\n",
      "10/10 [==============================] - 1s 100ms/step - loss: 0.2364 - accuracy: 0.9150 - val_loss: 0.2936 - val_accuracy: 0.8500\n",
      "Epoch 95/100\n",
      "10/10 [==============================] - 1s 100ms/step - loss: 0.2629 - accuracy: 0.9100 - val_loss: 0.7457 - val_accuracy: 0.8250\n",
      "Epoch 96/100\n",
      "10/10 [==============================] - 1s 101ms/step - loss: 0.2780 - accuracy: 0.8800 - val_loss: 0.4326 - val_accuracy: 0.8500\n",
      "Epoch 97/100\n",
      "10/10 [==============================] - 1s 98ms/step - loss: 0.1967 - accuracy: 0.9150 - val_loss: 0.3394 - val_accuracy: 0.8500\n",
      "Epoch 98/100\n",
      "10/10 [==============================] - 1s 102ms/step - loss: 0.2120 - accuracy: 0.9250 - val_loss: 0.5704 - val_accuracy: 0.8500\n",
      "Epoch 99/100\n",
      "10/10 [==============================] - 1s 98ms/step - loss: 0.1970 - accuracy: 0.9350 - val_loss: 0.3817 - val_accuracy: 0.8500\n",
      "Epoch 100/100\n",
      "10/10 [==============================] - 1s 97ms/step - loss: 0.2296 - accuracy: 0.9300 - val_loss: 0.6895 - val_accuracy: 0.8500\n"
     ]
    }
   ],
   "source": [
    "history = classifier.fit_generator(training_set, epochs =100,\n",
    "                                  validation_data=validation_set)"
   ]
  },
  {
   "cell_type": "code",
   "execution_count": null,
   "id": "e5ba80f7",
   "metadata": {},
   "outputs": [],
   "source": []
  },
  {
   "cell_type": "code",
   "execution_count": 79,
   "id": "0fb596b5",
   "metadata": {},
   "outputs": [],
   "source": [
    "#Displaying curves of loss and accuracy during training"
   ]
  },
  {
   "cell_type": "code",
   "execution_count": 80,
   "id": "b208c4af",
   "metadata": {},
   "outputs": [],
   "source": [
    "import matplotlib.pyplot as plt"
   ]
  },
  {
   "cell_type": "code",
   "execution_count": 81,
   "id": "661ff31e",
   "metadata": {},
   "outputs": [],
   "source": [
    "acc = history.history['accuracy']"
   ]
  },
  {
   "cell_type": "code",
   "execution_count": 82,
   "id": "fee6cad0",
   "metadata": {},
   "outputs": [],
   "source": [
    "val_acc = history.history['val_accuracy']"
   ]
  },
  {
   "cell_type": "code",
   "execution_count": 83,
   "id": "b81a782b",
   "metadata": {},
   "outputs": [],
   "source": [
    "loss = history.history['loss']"
   ]
  },
  {
   "cell_type": "code",
   "execution_count": 84,
   "id": "32a8ec9e",
   "metadata": {},
   "outputs": [],
   "source": [
    "val_loss = history.history['val_loss']"
   ]
  },
  {
   "cell_type": "code",
   "execution_count": 85,
   "id": "18374cbe",
   "metadata": {},
   "outputs": [],
   "source": [
    "epochs = range(1, len(acc) + 1)"
   ]
  },
  {
   "cell_type": "code",
   "execution_count": 86,
   "id": "9e1bc8ea",
   "metadata": {},
   "outputs": [
    {
     "data": {
      "text/plain": [
       "<Figure size 432x288 with 0 Axes>"
      ]
     },
     "execution_count": 86,
     "metadata": {},
     "output_type": "execute_result"
    },
    {
     "data": {
      "image/png": "[encoded data removed]",
      "text/plain": [
       "<Figure size 432x288 with 1 Axes>"
      ]
     },
     "metadata": {
      "needs_background": "light"
     },
     "output_type": "display_data"
    },
    {
     "data": {
      "text/plain": [
       "<Figure size 432x288 with 0 Axes>"
      ]
     },
     "metadata": {},
     "output_type": "display_data"
    }
   ],
   "source": [
    "plt.plot(epochs, acc, 'bo', label='Training acc')\n",
    "plt.plot(epochs, val_acc, 'g', label='Validation acc')\n",
    "plt.title('Training and validation accuracy')\n",
    "plt.legend()\n",
    "plt.figure()"
   ]
  },
  {
   "cell_type": "code",
   "execution_count": 87,
   "id": "b9a1412f",
   "metadata": {},
   "outputs": [
    {
     "data": {
      "text/plain": [
       "<Figure size 432x288 with 0 Axes>"
      ]
     },
     "execution_count": 87,
     "metadata": {},
     "output_type": "execute_result"
    },
    {
     "data": {
      "image/png": "[encoded data removed]",
      "text/plain": [
       "<Figure size 432x288 with 1 Axes>"
      ]
     },
     "metadata": {
      "needs_background": "light"
     },
     "output_type": "display_data"
    },
    {
     "data": {
      "text/plain": [
       "<Figure size 432x288 with 0 Axes>"
      ]
     },
     "metadata": {},
     "output_type": "display_data"
    }
   ],
   "source": [
    "plt.plot(epochs, loss, 'bo', label='Training loss')\n",
    "plt.plot(epochs, val_loss, 'g', label='Validation loss')\n",
    "plt.title('Training and validation loss')\n",
    "plt.legend()\n",
    "plt.figure()"
   ]
  },
  {
   "cell_type": "code",
   "execution_count": null,
   "id": "3ec302f7",
   "metadata": {},
   "outputs": [],
   "source": [
    " "
   ]
  },
  {
   "cell_type": "code",
   "execution_count": null,
   "id": "16f07878",
   "metadata": {},
   "outputs": [],
   "source": []
  },
  {
   "cell_type": "code",
   "execution_count": null,
   "id": "c616635a",
   "metadata": {},
   "outputs": [],
   "source": []
  }
 ],
 "metadata": {
  "kernelspec": {
   "display_name": "Python 3 (ipykernel)",
   "language": "python",
   "name": "python3"
  },
  "language_info": {
   "codemirror_mode": {
    "name": "ipython",
    "version": 3
   },
   "file_extension": ".py",
   "mimetype": "text/x-python",
   "name": "python",
   "nbconvert_exporter": "python",
   "pygments_lexer": "ipython3",
   "version": "3.9.12"
  }
 },
 "nbformat": 4,
 "nbformat_minor": 5
}
