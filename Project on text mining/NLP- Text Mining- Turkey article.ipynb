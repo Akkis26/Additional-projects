{
 "cells": [
  {
   "cell_type": "code",
   "execution_count": 1,
   "id": "c78be068",
   "metadata": {},
   "outputs": [],
   "source": [
    "import pandas as pd\n",
    "import numpy as np\n",
    "import matplotlib.pyplot as plt\n",
    "import seaborn\n",
    "import re\n",
    "import string\n",
    "from nltk.tokenize import word_tokenize\n",
    "from nltk.corpus import stopwords\n",
    "from nltk.stem import PorterStemmer\n",
    "from nltk.stem import WordNetLemmatizer\n",
    "import nltk"
   ]
  },
  {
   "cell_type": "code",
   "execution_count": 2,
   "id": "33dcabf9",
   "metadata": {
    "scrolled": true
   },
   "outputs": [
    {
     "name": "stdout",
     "output_type": "stream",
     "text": [
      "Requirement already satisfied: wordcloud in c:\\users\\hp\\anaconda3\\lib\\site-packages (1.8.2.2)\n",
      "Requirement already satisfied: numpy>=1.6.1 in c:\\users\\hp\\anaconda3\\lib\\site-packages (from wordcloud) (1.21.5)\n",
      "Requirement already satisfied: pillow in c:\\users\\hp\\anaconda3\\lib\\site-packages (from wordcloud) (9.0.1)\n",
      "Requirement already satisfied: matplotlib in c:\\users\\hp\\anaconda3\\lib\\site-packages (from wordcloud) (3.5.1)\n",
      "Requirement already satisfied: pyparsing>=2.2.1 in c:\\users\\hp\\anaconda3\\lib\\site-packages (from matplotlib->wordcloud) (3.0.4)\n",
      "Requirement already satisfied: packaging>=20.0 in c:\\users\\hp\\anaconda3\\lib\\site-packages (from matplotlib->wordcloud) (21.3)\n",
      "Requirement already satisfied: kiwisolver>=1.0.1 in c:\\users\\hp\\anaconda3\\lib\\site-packages (from matplotlib->wordcloud) (1.3.2)\n",
      "Requirement already satisfied: python-dateutil>=2.7 in c:\\users\\hp\\anaconda3\\lib\\site-packages (from matplotlib->wordcloud) (2.8.2)\n",
      "Requirement already satisfied: cycler>=0.10 in c:\\users\\hp\\anaconda3\\lib\\site-packages (from matplotlib->wordcloud) (0.11.0)\n",
      "Requirement already satisfied: fonttools>=4.22.0 in c:\\users\\hp\\anaconda3\\lib\\site-packages (from matplotlib->wordcloud) (4.25.0)\n",
      "Requirement already satisfied: six>=1.5 in c:\\users\\hp\\anaconda3\\lib\\site-packages (from python-dateutil>=2.7->matplotlib->wordcloud) (1.16.0)\n",
      "Note: you may need to restart the kernel to use updated packages.\n"
     ]
    }
   ],
   "source": [
    "pip install wordcloud"
   ]
  },
  {
   "cell_type": "code",
   "execution_count": 3,
   "id": "53fdb8bd",
   "metadata": {},
   "outputs": [],
   "source": [
    "#pip install wordcloud\n",
    "from wordcloud import WordCloud"
   ]
  },
  {
   "cell_type": "code",
   "execution_count": 4,
   "id": "8593a1b5",
   "metadata": {},
   "outputs": [],
   "source": [
    "with open(\"C:\\\\Users\\\\hp\\\\Desktop\\\\turkey article.txt\",'r') as f:\n",
    "    text = f.readlines()"
   ]
  },
  {
   "cell_type": "code",
   "execution_count": 5,
   "id": "056805c6",
   "metadata": {},
   "outputs": [],
   "source": [
    "text = [line.strip() for line in text]"
   ]
  },
  {
   "cell_type": "code",
   "execution_count": 6,
   "id": "7eb26596",
   "metadata": {},
   "outputs": [
    {
     "name": "stdout",
     "output_type": "stream",
     "text": [
      "['Life for millions across Turkey and Syria changed forever on Monday, as two consecutive earthquakes sent shockwaves across hundreds of miles.', '', 'Nine hours apart and with magnitudes of 7.8 and 7.5 on the Richter scale, the quakes rocked Turkey and Syria and were the regionâ€™s strongest in nearly a century.', '', 'At the time of writing, the death toll from the quakes is more than 12,000, with many still missing and critically injured. The World Health Organization put the number of people affected by the disaster at 23 million. At least 6,000 buildings collapsed, many with residents still inside them. Rescue efforts continue to be the top priority, with some 25,000 deployed in Turkey and thousands more sent in from overseas â€” but a bitter winter storm now threatens the lives of the survivors and of those still trapped under rubble.', '', 'Syria, ravaged by 12 years of war and terrorism, is the least prepared to deal with such a crisis. Its infrastructure is heavily depleted, and the country remains under Western sanctions. Thousands of those in the affected areas are already refugees or internally displaced people.', '', 'With the dust of the catastrophe still settling, regional analysts are zoning in on the longer-term rippling effect that the catastrophe could have on Turkey, a country whose 85 million-strong population was already mired in economic problems â€” and whose military, economy, and politics have a major impact far beyond its borders.']\n"
     ]
    }
   ],
   "source": [
    "print(text)"
   ]
  },
  {
   "cell_type": "code",
   "execution_count": 7,
   "id": "f4b792b6",
   "metadata": {},
   "outputs": [],
   "source": [
    "# Join\n",
    "# Let us have a vector of words and apply paste function into it"
   ]
  },
  {
   "cell_type": "code",
   "execution_count": 8,
   "id": "3d63bb6c",
   "metadata": {},
   "outputs": [],
   "source": [
    "a = ['Hello', 'World', 'My', 'First', 'Handshake', 'Through', 'R']"
   ]
  },
  {
   "cell_type": "code",
   "execution_count": 9,
   "id": "97f0b1e8",
   "metadata": {},
   "outputs": [
    {
     "data": {
      "text/plain": [
       "['Hello', 'World', 'My', 'First', 'Handshake', 'Through', 'R']"
      ]
     },
     "execution_count": 9,
     "metadata": {},
     "output_type": "execute_result"
    }
   ],
   "source": [
    "a"
   ]
  },
  {
   "cell_type": "code",
   "execution_count": 10,
   "id": "85564c99",
   "metadata": {},
   "outputs": [],
   "source": [
    "# we are looking to use paste function and make it a chunk"
   ]
  },
  {
   "cell_type": "code",
   "execution_count": 11,
   "id": "1518c285",
   "metadata": {},
   "outputs": [],
   "source": [
    "b = ' '.join(a)"
   ]
  },
  {
   "cell_type": "code",
   "execution_count": 12,
   "id": "37288e38",
   "metadata": {},
   "outputs": [
    {
     "data": {
      "text/plain": [
       "'Hello World My First Handshake Through R'"
      ]
     },
     "execution_count": 12,
     "metadata": {},
     "output_type": "execute_result"
    }
   ],
   "source": [
    "b"
   ]
  },
  {
   "cell_type": "code",
   "execution_count": 13,
   "id": "79aabbd7",
   "metadata": {},
   "outputs": [],
   "source": [
    "# Just check how do these two look"
   ]
  },
  {
   "cell_type": "code",
   "execution_count": 14,
   "id": "a2adc2a6",
   "metadata": {},
   "outputs": [
    {
     "data": {
      "text/plain": [
       "['Hello', 'World', 'My', 'First', 'Handshake', 'Through', 'R']"
      ]
     },
     "execution_count": 14,
     "metadata": {},
     "output_type": "execute_result"
    }
   ],
   "source": [
    "a"
   ]
  },
  {
   "cell_type": "code",
   "execution_count": 15,
   "id": "0ad0f16a",
   "metadata": {},
   "outputs": [
    {
     "data": {
      "text/plain": [
       "'Hello World My First Handshake Through R'"
      ]
     },
     "execution_count": 15,
     "metadata": {},
     "output_type": "execute_result"
    }
   ],
   "source": [
    "b"
   ]
  },
  {
   "cell_type": "code",
   "execution_count": 16,
   "id": "648343cd",
   "metadata": {},
   "outputs": [],
   "source": [
    "# Lets start again"
   ]
  },
  {
   "cell_type": "code",
   "execution_count": 17,
   "id": "f915aa40",
   "metadata": {},
   "outputs": [],
   "source": [
    "with open(\"C:\\\\Users\\\\hp\\\\Desktop\\\\turkey article.txt\",'r') as f:\n",
    "    chunk_2 = f.readlines()"
   ]
  },
  {
   "cell_type": "code",
   "execution_count": 18,
   "id": "9d1e7c2d",
   "metadata": {},
   "outputs": [],
   "source": [
    "chunk_2 = [line.strip() for line in text]"
   ]
  },
  {
   "cell_type": "code",
   "execution_count": 19,
   "id": "04a1a7dc",
   "metadata": {},
   "outputs": [
    {
     "name": "stdout",
     "output_type": "stream",
     "text": [
      "['Life for millions across Turkey and Syria changed forever on Monday, as two consecutive earthquakes sent shockwaves across hundreds of miles.', '', 'Nine hours apart and with magnitudes of 7.8 and 7.5 on the Richter scale, the quakes rocked Turkey and Syria and were the regionâ€™s strongest in nearly a century.', '', 'At the time of writing, the death toll from the quakes is more than 12,000, with many still missing and critically injured. The World Health Organization put the number of people affected by the disaster at 23 million. At least 6,000 buildings collapsed, many with residents still inside them. Rescue efforts continue to be the top priority, with some 25,000 deployed in Turkey and thousands more sent in from overseas â€” but a bitter winter storm now threatens the lives of the survivors and of those still trapped under rubble.', '', 'Syria, ravaged by 12 years of war and terrorism, is the least prepared to deal with such a crisis. Its infrastructure is heavily depleted, and the country remains under Western sanctions. Thousands of those in the affected areas are already refugees or internally displaced people.', '', 'With the dust of the catastrophe still settling, regional analysts are zoning in on the longer-term rippling effect that the catastrophe could have on Turkey, a country whose 85 million-strong population was already mired in economic problems â€” and whose military, economy, and politics have a major impact far beyond its borders.']\n"
     ]
    }
   ],
   "source": [
    "print(chunk_2)"
   ]
  },
  {
   "cell_type": "markdown",
   "id": "3c8d0ece",
   "metadata": {},
   "source": [
    "# Joining Effect"
   ]
  },
  {
   "cell_type": "code",
   "execution_count": 20,
   "id": "bf65c249",
   "metadata": {},
   "outputs": [],
   "source": [
    "chunk_pasted_2 = ' '.join(chunk_2)"
   ]
  },
  {
   "cell_type": "code",
   "execution_count": 21,
   "id": "0b263684",
   "metadata": {},
   "outputs": [
    {
     "data": {
      "text/plain": [
       "'Life for millions across Turkey and Syria changed forever on Monday, as two consecutive earthquakes sent shockwaves across hundreds of miles.  Nine hours apart and with magnitudes of 7.8 and 7.5 on the Richter scale, the quakes rocked Turkey and Syria and were the regionâ€™s strongest in nearly a century.  At the time of writing, the death toll from the quakes is more than 12,000, with many still missing and critically injured. The World Health Organization put the number of people affected by the disaster at 23 million. At least 6,000 buildings collapsed, many with residents still inside them. Rescue efforts continue to be the top priority, with some 25,000 deployed in Turkey and thousands more sent in from overseas â€” but a bitter winter storm now threatens the lives of the survivors and of those still trapped under rubble.  Syria, ravaged by 12 years of war and terrorism, is the least prepared to deal with such a crisis. Its infrastructure is heavily depleted, and the country remains under Western sanctions. Thousands of those in the affected areas are already refugees or internally displaced people.  With the dust of the catastrophe still settling, regional analysts are zoning in on the longer-term rippling effect that the catastrophe could have on Turkey, a country whose 85 million-strong population was already mired in economic problems â€” and whose military, economy, and politics have a major impact far beyond its borders.'"
      ]
     },
     "execution_count": 21,
     "metadata": {},
     "output_type": "execute_result"
    }
   ],
   "source": [
    "chunk_pasted_2"
   ]
  },
  {
   "cell_type": "markdown",
   "id": "c23a62b9",
   "metadata": {},
   "source": [
    "# Lower case"
   ]
  },
  {
   "cell_type": "code",
   "execution_count": 22,
   "id": "26ab7660",
   "metadata": {},
   "outputs": [],
   "source": [
    "# CLEANING THE DATA"
   ]
  },
  {
   "cell_type": "code",
   "execution_count": 23,
   "id": "3b393a63",
   "metadata": {},
   "outputs": [],
   "source": [
    "# Let us now lower case this data"
   ]
  },
  {
   "cell_type": "code",
   "execution_count": 24,
   "id": "ee88aa22",
   "metadata": {},
   "outputs": [],
   "source": [
    "clean_data1 = chunk_pasted_2.lower()"
   ]
  },
  {
   "cell_type": "code",
   "execution_count": 25,
   "id": "b0a7ed99",
   "metadata": {},
   "outputs": [
    {
     "data": {
      "text/plain": [
       "'life for millions across turkey and syria changed forever on monday, as two consecutive earthquakes sent shockwaves across hundreds of miles.  nine hours apart and with magnitudes of 7.8 and 7.5 on the richter scale, the quakes rocked turkey and syria and were the regionâ€™s strongest in nearly a century.  at the time of writing, the death toll from the quakes is more than 12,000, with many still missing and critically injured. the world health organization put the number of people affected by the disaster at 23 million. at least 6,000 buildings collapsed, many with residents still inside them. rescue efforts continue to be the top priority, with some 25,000 deployed in turkey and thousands more sent in from overseas â€” but a bitter winter storm now threatens the lives of the survivors and of those still trapped under rubble.  syria, ravaged by 12 years of war and terrorism, is the least prepared to deal with such a crisis. its infrastructure is heavily depleted, and the country remains under western sanctions. thousands of those in the affected areas are already refugees or internally displaced people.  with the dust of the catastrophe still settling, regional analysts are zoning in on the longer-term rippling effect that the catastrophe could have on turkey, a country whose 85 million-strong population was already mired in economic problems â€” and whose military, economy, and politics have a major impact far beyond its borders.'"
      ]
     },
     "execution_count": 25,
     "metadata": {},
     "output_type": "execute_result"
    }
   ],
   "source": [
    "clean_data1"
   ]
  },
  {
   "cell_type": "markdown",
   "id": "8e8b3141",
   "metadata": {},
   "source": [
    "# Punctuations"
   ]
  },
  {
   "cell_type": "code",
   "execution_count": 26,
   "id": "b8737a11",
   "metadata": {},
   "outputs": [],
   "source": [
    "#Cleaning the punctuations, pattern = '\\\\W'\n",
    "#We are going to replace the punctuations by space,\n",
    "#if we dont do so then we may make new words"
   ]
  },
  {
   "cell_type": "code",
   "execution_count": 27,
   "id": "11d78f3b",
   "metadata": {},
   "outputs": [],
   "source": [
    "clean_data2 = re.sub(r'[^\\w\\s]','',clean_data1)"
   ]
  },
  {
   "cell_type": "code",
   "execution_count": 28,
   "id": "fa34a82a",
   "metadata": {},
   "outputs": [
    {
     "data": {
      "text/plain": [
       "'life for millions across turkey and syria changed forever on monday as two consecutive earthquakes sent shockwaves across hundreds of miles  nine hours apart and with magnitudes of 78 and 75 on the richter scale the quakes rocked turkey and syria and were the regionâs strongest in nearly a century  at the time of writing the death toll from the quakes is more than 12000 with many still missing and critically injured the world health organization put the number of people affected by the disaster at 23 million at least 6000 buildings collapsed many with residents still inside them rescue efforts continue to be the top priority with some 25000 deployed in turkey and thousands more sent in from overseas â but a bitter winter storm now threatens the lives of the survivors and of those still trapped under rubble  syria ravaged by 12 years of war and terrorism is the least prepared to deal with such a crisis its infrastructure is heavily depleted and the country remains under western sanctions thousands of those in the affected areas are already refugees or internally displaced people  with the dust of the catastrophe still settling regional analysts are zoning in on the longerterm rippling effect that the catastrophe could have on turkey a country whose 85 millionstrong population was already mired in economic problems â and whose military economy and politics have a major impact far beyond its borders'"
      ]
     },
     "execution_count": 28,
     "metadata": {},
     "output_type": "execute_result"
    }
   ],
   "source": [
    "clean_data2"
   ]
  },
  {
   "cell_type": "markdown",
   "id": "7fa56306",
   "metadata": {},
   "source": [
    "# Digits"
   ]
  },
  {
   "cell_type": "code",
   "execution_count": 29,
   "id": "28d20c3c",
   "metadata": {},
   "outputs": [],
   "source": [
    "#Cleaning the digits, pattern = '\\\\d'"
   ]
  },
  {
   "cell_type": "code",
   "execution_count": 30,
   "id": "c55cdb60",
   "metadata": {},
   "outputs": [],
   "source": [
    "clean_data3 = re.sub(r'\\d+', ' ', clean_data2)"
   ]
  },
  {
   "cell_type": "code",
   "execution_count": 31,
   "id": "c78aae1d",
   "metadata": {},
   "outputs": [
    {
     "data": {
      "text/plain": [
       "'life for millions across turkey and syria changed forever on monday as two consecutive earthquakes sent shockwaves across hundreds of miles  nine hours apart and with magnitudes of   and   on the richter scale the quakes rocked turkey and syria and were the regionâs strongest in nearly a century  at the time of writing the death toll from the quakes is more than   with many still missing and critically injured the world health organization put the number of people affected by the disaster at   million at least   buildings collapsed many with residents still inside them rescue efforts continue to be the top priority with some   deployed in turkey and thousands more sent in from overseas â but a bitter winter storm now threatens the lives of the survivors and of those still trapped under rubble  syria ravaged by   years of war and terrorism is the least prepared to deal with such a crisis its infrastructure is heavily depleted and the country remains under western sanctions thousands of those in the affected areas are already refugees or internally displaced people  with the dust of the catastrophe still settling regional analysts are zoning in on the longerterm rippling effect that the catastrophe could have on turkey a country whose   millionstrong population was already mired in economic problems â and whose military economy and politics have a major impact far beyond its borders'"
      ]
     },
     "execution_count": 31,
     "metadata": {},
     "output_type": "execute_result"
    }
   ],
   "source": [
    "clean_data3"
   ]
  },
  {
   "cell_type": "markdown",
   "id": "36127207",
   "metadata": {},
   "source": [
    "# Stop words"
   ]
  },
  {
   "cell_type": "code",
   "execution_count": 32,
   "id": "15efb256",
   "metadata": {},
   "outputs": [],
   "source": [
    "#Lets see a preview of stopwords"
   ]
  },
  {
   "cell_type": "code",
   "execution_count": 33,
   "id": "07ee709b",
   "metadata": {},
   "outputs": [
    {
     "name": "stderr",
     "output_type": "stream",
     "text": [
      "[nltk_data] Downloading package stopwords to\n",
      "[nltk_data]     C:\\Users\\hp\\AppData\\Roaming\\nltk_data...\n",
      "[nltk_data]   Package stopwords is already up-to-date!\n"
     ]
    },
    {
     "data": {
      "text/plain": [
       "True"
      ]
     },
     "execution_count": 33,
     "metadata": {},
     "output_type": "execute_result"
    }
   ],
   "source": [
    "nltk.download('stopwords')"
   ]
  },
  {
   "cell_type": "code",
   "execution_count": 34,
   "id": "0fcac353",
   "metadata": {},
   "outputs": [],
   "source": [
    "stop_words = set(stopwords.words('english'))"
   ]
  },
  {
   "cell_type": "code",
   "execution_count": 35,
   "id": "c3226134",
   "metadata": {},
   "outputs": [
    {
     "data": {
      "text/plain": [
       "{'a',\n",
       " 'about',\n",
       " 'above',\n",
       " 'after',\n",
       " 'again',\n",
       " 'against',\n",
       " 'ain',\n",
       " 'all',\n",
       " 'am',\n",
       " 'an',\n",
       " 'and',\n",
       " 'any',\n",
       " 'are',\n",
       " 'aren',\n",
       " \"aren't\",\n",
       " 'as',\n",
       " 'at',\n",
       " 'be',\n",
       " 'because',\n",
       " 'been',\n",
       " 'before',\n",
       " 'being',\n",
       " 'below',\n",
       " 'between',\n",
       " 'both',\n",
       " 'but',\n",
       " 'by',\n",
       " 'can',\n",
       " 'couldn',\n",
       " \"couldn't\",\n",
       " 'd',\n",
       " 'did',\n",
       " 'didn',\n",
       " \"didn't\",\n",
       " 'do',\n",
       " 'does',\n",
       " 'doesn',\n",
       " \"doesn't\",\n",
       " 'doing',\n",
       " 'don',\n",
       " \"don't\",\n",
       " 'down',\n",
       " 'during',\n",
       " 'each',\n",
       " 'few',\n",
       " 'for',\n",
       " 'from',\n",
       " 'further',\n",
       " 'had',\n",
       " 'hadn',\n",
       " \"hadn't\",\n",
       " 'has',\n",
       " 'hasn',\n",
       " \"hasn't\",\n",
       " 'have',\n",
       " 'haven',\n",
       " \"haven't\",\n",
       " 'having',\n",
       " 'he',\n",
       " 'her',\n",
       " 'here',\n",
       " 'hers',\n",
       " 'herself',\n",
       " 'him',\n",
       " 'himself',\n",
       " 'his',\n",
       " 'how',\n",
       " 'i',\n",
       " 'if',\n",
       " 'in',\n",
       " 'into',\n",
       " 'is',\n",
       " 'isn',\n",
       " \"isn't\",\n",
       " 'it',\n",
       " \"it's\",\n",
       " 'its',\n",
       " 'itself',\n",
       " 'just',\n",
       " 'll',\n",
       " 'm',\n",
       " 'ma',\n",
       " 'me',\n",
       " 'mightn',\n",
       " \"mightn't\",\n",
       " 'more',\n",
       " 'most',\n",
       " 'mustn',\n",
       " \"mustn't\",\n",
       " 'my',\n",
       " 'myself',\n",
       " 'needn',\n",
       " \"needn't\",\n",
       " 'no',\n",
       " 'nor',\n",
       " 'not',\n",
       " 'now',\n",
       " 'o',\n",
       " 'of',\n",
       " 'off',\n",
       " 'on',\n",
       " 'once',\n",
       " 'only',\n",
       " 'or',\n",
       " 'other',\n",
       " 'our',\n",
       " 'ours',\n",
       " 'ourselves',\n",
       " 'out',\n",
       " 'over',\n",
       " 'own',\n",
       " 're',\n",
       " 's',\n",
       " 'same',\n",
       " 'shan',\n",
       " \"shan't\",\n",
       " 'she',\n",
       " \"she's\",\n",
       " 'should',\n",
       " \"should've\",\n",
       " 'shouldn',\n",
       " \"shouldn't\",\n",
       " 'so',\n",
       " 'some',\n",
       " 'such',\n",
       " 't',\n",
       " 'than',\n",
       " 'that',\n",
       " \"that'll\",\n",
       " 'the',\n",
       " 'their',\n",
       " 'theirs',\n",
       " 'them',\n",
       " 'themselves',\n",
       " 'then',\n",
       " 'there',\n",
       " 'these',\n",
       " 'they',\n",
       " 'this',\n",
       " 'those',\n",
       " 'through',\n",
       " 'to',\n",
       " 'too',\n",
       " 'under',\n",
       " 'until',\n",
       " 'up',\n",
       " 've',\n",
       " 'very',\n",
       " 'was',\n",
       " 'wasn',\n",
       " \"wasn't\",\n",
       " 'we',\n",
       " 'were',\n",
       " 'weren',\n",
       " \"weren't\",\n",
       " 'what',\n",
       " 'when',\n",
       " 'where',\n",
       " 'which',\n",
       " 'while',\n",
       " 'who',\n",
       " 'whom',\n",
       " 'why',\n",
       " 'will',\n",
       " 'with',\n",
       " 'won',\n",
       " \"won't\",\n",
       " 'wouldn',\n",
       " \"wouldn't\",\n",
       " 'y',\n",
       " 'you',\n",
       " \"you'd\",\n",
       " \"you'll\",\n",
       " \"you're\",\n",
       " \"you've\",\n",
       " 'your',\n",
       " 'yours',\n",
       " 'yourself',\n",
       " 'yourselves'}"
      ]
     },
     "execution_count": 35,
     "metadata": {},
     "output_type": "execute_result"
    }
   ],
   "source": [
    "stop_words"
   ]
  },
  {
   "cell_type": "code",
   "execution_count": 36,
   "id": "b8b900d1",
   "metadata": {},
   "outputs": [],
   "source": [
    "#Stop words\n",
    "# Let us remove them using function removeWords()"
   ]
  },
  {
   "cell_type": "code",
   "execution_count": 37,
   "id": "4b477886",
   "metadata": {},
   "outputs": [],
   "source": [
    "from nltk.tokenize import word_tokenize\n",
    "import nltk"
   ]
  },
  {
   "cell_type": "code",
   "execution_count": 38,
   "id": "db0dc84b",
   "metadata": {},
   "outputs": [
    {
     "name": "stderr",
     "output_type": "stream",
     "text": [
      "[nltk_data] Downloading package punkt to\n",
      "[nltk_data]     C:\\Users\\hp\\AppData\\Roaming\\nltk_data...\n",
      "[nltk_data]   Package punkt is already up-to-date!\n"
     ]
    },
    {
     "data": {
      "text/plain": [
       "True"
      ]
     },
     "execution_count": 38,
     "metadata": {},
     "output_type": "execute_result"
    }
   ],
   "source": [
    "nltk.download('punkt')"
   ]
  },
  {
   "cell_type": "code",
   "execution_count": 39,
   "id": "91542a63",
   "metadata": {},
   "outputs": [],
   "source": [
    "tokens = word_tokenize(clean_data3)"
   ]
  },
  {
   "cell_type": "code",
   "execution_count": 40,
   "id": "ee14793c",
   "metadata": {},
   "outputs": [],
   "source": [
    "clean_data4 = [i for i in tokens if not i in stop_words]"
   ]
  },
  {
   "cell_type": "code",
   "execution_count": 41,
   "id": "01746f1a",
   "metadata": {
    "scrolled": false
   },
   "outputs": [
    {
     "data": {
      "text/plain": [
       "['life',\n",
       " 'millions',\n",
       " 'across',\n",
       " 'turkey',\n",
       " 'syria',\n",
       " 'changed',\n",
       " 'forever',\n",
       " 'monday',\n",
       " 'two',\n",
       " 'consecutive',\n",
       " 'earthquakes',\n",
       " 'sent',\n",
       " 'shockwaves',\n",
       " 'across',\n",
       " 'hundreds',\n",
       " 'miles',\n",
       " 'nine',\n",
       " 'hours',\n",
       " 'apart',\n",
       " 'magnitudes',\n",
       " 'richter',\n",
       " 'scale',\n",
       " 'quakes',\n",
       " 'rocked',\n",
       " 'turkey',\n",
       " 'syria',\n",
       " 'regionâs',\n",
       " 'strongest',\n",
       " 'nearly',\n",
       " 'century',\n",
       " 'time',\n",
       " 'writing',\n",
       " 'death',\n",
       " 'toll',\n",
       " 'quakes',\n",
       " 'many',\n",
       " 'still',\n",
       " 'missing',\n",
       " 'critically',\n",
       " 'injured',\n",
       " 'world',\n",
       " 'health',\n",
       " 'organization',\n",
       " 'put',\n",
       " 'number',\n",
       " 'people',\n",
       " 'affected',\n",
       " 'disaster',\n",
       " 'million',\n",
       " 'least',\n",
       " 'buildings',\n",
       " 'collapsed',\n",
       " 'many',\n",
       " 'residents',\n",
       " 'still',\n",
       " 'inside',\n",
       " 'rescue',\n",
       " 'efforts',\n",
       " 'continue',\n",
       " 'top',\n",
       " 'priority',\n",
       " 'deployed',\n",
       " 'turkey',\n",
       " 'thousands',\n",
       " 'sent',\n",
       " 'overseas',\n",
       " 'â',\n",
       " 'bitter',\n",
       " 'winter',\n",
       " 'storm',\n",
       " 'threatens',\n",
       " 'lives',\n",
       " 'survivors',\n",
       " 'still',\n",
       " 'trapped',\n",
       " 'rubble',\n",
       " 'syria',\n",
       " 'ravaged',\n",
       " 'years',\n",
       " 'war',\n",
       " 'terrorism',\n",
       " 'least',\n",
       " 'prepared',\n",
       " 'deal',\n",
       " 'crisis',\n",
       " 'infrastructure',\n",
       " 'heavily',\n",
       " 'depleted',\n",
       " 'country',\n",
       " 'remains',\n",
       " 'western',\n",
       " 'sanctions',\n",
       " 'thousands',\n",
       " 'affected',\n",
       " 'areas',\n",
       " 'already',\n",
       " 'refugees',\n",
       " 'internally',\n",
       " 'displaced',\n",
       " 'people',\n",
       " 'dust',\n",
       " 'catastrophe',\n",
       " 'still',\n",
       " 'settling',\n",
       " 'regional',\n",
       " 'analysts',\n",
       " 'zoning',\n",
       " 'longerterm',\n",
       " 'rippling',\n",
       " 'effect',\n",
       " 'catastrophe',\n",
       " 'could',\n",
       " 'turkey',\n",
       " 'country',\n",
       " 'whose',\n",
       " 'millionstrong',\n",
       " 'population',\n",
       " 'already',\n",
       " 'mired',\n",
       " 'economic',\n",
       " 'problems',\n",
       " 'â',\n",
       " 'whose',\n",
       " 'military',\n",
       " 'economy',\n",
       " 'politics',\n",
       " 'major',\n",
       " 'impact',\n",
       " 'far',\n",
       " 'beyond',\n",
       " 'borders']"
      ]
     },
     "execution_count": 41,
     "metadata": {},
     "output_type": "execute_result"
    }
   ],
   "source": [
    "clean_data4"
   ]
  },
  {
   "cell_type": "code",
   "execution_count": 42,
   "id": "fe2be4c6",
   "metadata": {},
   "outputs": [],
   "source": [
    "# Lets club the list"
   ]
  },
  {
   "cell_type": "code",
   "execution_count": 43,
   "id": "392d319d",
   "metadata": {},
   "outputs": [],
   "source": [
    "clean_data4 = \" \".join(str(x) for x in clean_data4)"
   ]
  },
  {
   "cell_type": "code",
   "execution_count": 44,
   "id": "482738a7",
   "metadata": {},
   "outputs": [
    {
     "data": {
      "text/plain": [
       "'life millions across turkey syria changed forever monday two consecutive earthquakes sent shockwaves across hundreds miles nine hours apart magnitudes richter scale quakes rocked turkey syria regionâs strongest nearly century time writing death toll quakes many still missing critically injured world health organization put number people affected disaster million least buildings collapsed many residents still inside rescue efforts continue top priority deployed turkey thousands sent overseas â bitter winter storm threatens lives survivors still trapped rubble syria ravaged years war terrorism least prepared deal crisis infrastructure heavily depleted country remains western sanctions thousands affected areas already refugees internally displaced people dust catastrophe still settling regional analysts zoning longerterm rippling effect catastrophe could turkey country whose millionstrong population already mired economic problems â whose military economy politics major impact far beyond borders'"
      ]
     },
     "execution_count": 44,
     "metadata": {},
     "output_type": "execute_result"
    }
   ],
   "source": [
    "clean_data4"
   ]
  },
  {
   "cell_type": "code",
   "execution_count": 45,
   "id": "a5d9bfdb",
   "metadata": {},
   "outputs": [],
   "source": [
    "# Let us remove single letters"
   ]
  },
  {
   "cell_type": "code",
   "execution_count": 46,
   "id": "ab940198",
   "metadata": {},
   "outputs": [],
   "source": [
    "clean_data5 = ' '.join(i for i in clean_data4.split() if not (i.isalpha() and len(i)==1))"
   ]
  },
  {
   "cell_type": "code",
   "execution_count": 47,
   "id": "644d64ee",
   "metadata": {},
   "outputs": [
    {
     "data": {
      "text/plain": [
       "'life millions across turkey syria changed forever monday two consecutive earthquakes sent shockwaves across hundreds miles nine hours apart magnitudes richter scale quakes rocked turkey syria regionâs strongest nearly century time writing death toll quakes many still missing critically injured world health organization put number people affected disaster million least buildings collapsed many residents still inside rescue efforts continue top priority deployed turkey thousands sent overseas bitter winter storm threatens lives survivors still trapped rubble syria ravaged years war terrorism least prepared deal crisis infrastructure heavily depleted country remains western sanctions thousands affected areas already refugees internally displaced people dust catastrophe still settling regional analysts zoning longerterm rippling effect catastrophe could turkey country whose millionstrong population already mired economic problems whose military economy politics major impact far beyond borders'"
      ]
     },
     "execution_count": 47,
     "metadata": {},
     "output_type": "execute_result"
    }
   ],
   "source": [
    "clean_data5"
   ]
  },
  {
   "cell_type": "markdown",
   "id": "d2ce0a4d",
   "metadata": {},
   "source": [
    "# WHITESPACE"
   ]
  },
  {
   "cell_type": "code",
   "execution_count": 48,
   "id": "7065c052",
   "metadata": {},
   "outputs": [],
   "source": [
    "clean_data6 = clean_data5.strip()"
   ]
  },
  {
   "cell_type": "code",
   "execution_count": 49,
   "id": "1fb9a6d3",
   "metadata": {},
   "outputs": [
    {
     "data": {
      "text/plain": [
       "'life millions across turkey syria changed forever monday two consecutive earthquakes sent shockwaves across hundreds miles nine hours apart magnitudes richter scale quakes rocked turkey syria regionâs strongest nearly century time writing death toll quakes many still missing critically injured world health organization put number people affected disaster million least buildings collapsed many residents still inside rescue efforts continue top priority deployed turkey thousands sent overseas bitter winter storm threatens lives survivors still trapped rubble syria ravaged years war terrorism least prepared deal crisis infrastructure heavily depleted country remains western sanctions thousands affected areas already refugees internally displaced people dust catastrophe still settling regional analysts zoning longerterm rippling effect catastrophe could turkey country whose millionstrong population already mired economic problems whose military economy politics major impact far beyond borders'"
      ]
     },
     "execution_count": 49,
     "metadata": {},
     "output_type": "execute_result"
    }
   ],
   "source": [
    "clean_data6"
   ]
  },
  {
   "cell_type": "markdown",
   "id": "285a4e9e",
   "metadata": {},
   "source": [
    "# Frequency of the words"
   ]
  },
  {
   "cell_type": "code",
   "execution_count": 50,
   "id": "b3af3ff8",
   "metadata": {},
   "outputs": [],
   "source": [
    "words_dict = {}"
   ]
  },
  {
   "cell_type": "code",
   "execution_count": 51,
   "id": "fb4a9221",
   "metadata": {},
   "outputs": [
    {
     "name": "stdout",
     "output_type": "stream",
     "text": [
      "across:2\n",
      "affected:2\n",
      "already:2\n",
      "analysts:1\n",
      "apart:1\n",
      "areas:1\n",
      "beyond:1\n",
      "bitter:1\n",
      "borders:1\n",
      "buildings:1\n",
      "catastrophe:2\n",
      "century:1\n",
      "changed:1\n",
      "collapsed:1\n",
      "consecutive:1\n",
      "continue:1\n",
      "could:1\n",
      "country:2\n",
      "crisis:1\n",
      "critically:1\n",
      "deal:1\n",
      "death:1\n",
      "depleted:1\n",
      "deployed:1\n",
      "disaster:1\n",
      "displaced:1\n",
      "dust:1\n",
      "earthquakes:1\n",
      "economic:1\n",
      "economy:1\n",
      "effect:1\n",
      "efforts:1\n",
      "far:1\n",
      "forever:1\n",
      "health:1\n",
      "heavily:1\n",
      "hours:1\n",
      "hundreds:1\n",
      "impact:1\n",
      "infrastructure:1\n",
      "injured:1\n",
      "inside:1\n",
      "internally:1\n",
      "least:2\n",
      "life:1\n",
      "lives:1\n",
      "longerterm:1\n",
      "magnitudes:1\n",
      "major:1\n",
      "many:2\n",
      "miles:1\n",
      "military:1\n",
      "million:1\n",
      "millions:1\n",
      "millionstrong:1\n",
      "mired:1\n",
      "missing:1\n",
      "monday:1\n",
      "nearly:1\n",
      "nine:1\n",
      "number:1\n",
      "organization:1\n",
      "overseas:1\n",
      "people:2\n",
      "politics:1\n",
      "population:1\n",
      "prepared:1\n",
      "priority:1\n",
      "problems:1\n",
      "put:1\n",
      "quakes:2\n",
      "ravaged:1\n",
      "refugees:1\n",
      "regional:1\n",
      "regionâs:1\n",
      "remains:1\n",
      "rescue:1\n",
      "residents:1\n",
      "richter:1\n",
      "rippling:1\n",
      "rocked:1\n",
      "rubble:1\n",
      "sanctions:1\n",
      "scale:1\n",
      "sent:2\n",
      "settling:1\n",
      "shockwaves:1\n",
      "still:4\n",
      "storm:1\n",
      "strongest:1\n",
      "survivors:1\n",
      "syria:3\n",
      "terrorism:1\n",
      "thousands:2\n",
      "threatens:1\n",
      "time:1\n",
      "toll:1\n",
      "top:1\n",
      "trapped:1\n",
      "turkey:4\n",
      "two:1\n",
      "war:1\n",
      "western:1\n",
      "whose:2\n",
      "winter:1\n",
      "world:1\n",
      "writing:1\n",
      "years:1\n",
      "zoning:1\n"
     ]
    }
   ],
   "source": [
    "for word in clean_data6.split():\n",
    "    words_dict[word] = words_dict.get(word, 0)+1\n",
    "for key in sorted(words_dict):\n",
    "    print('{}:{}'.format(key, words_dict[key]))"
   ]
  },
  {
   "cell_type": "markdown",
   "id": "09541bfa",
   "metadata": {},
   "source": [
    "# WORD CLOUD"
   ]
  },
  {
   "cell_type": "code",
   "execution_count": 52,
   "id": "cec8613f",
   "metadata": {},
   "outputs": [],
   "source": [
    "# Create the wordcloud object"
   ]
  },
  {
   "cell_type": "code",
   "execution_count": 53,
   "id": "92f87bd9",
   "metadata": {},
   "outputs": [],
   "source": [
    "wordcloud = WordCloud(width=480, height=480, margin=0).generate(clean_data6)"
   ]
  },
  {
   "cell_type": "code",
   "execution_count": 54,
   "id": "883d76d0",
   "metadata": {},
   "outputs": [],
   "source": [
    "# Display the generated image:"
   ]
  },
  {
   "cell_type": "code",
   "execution_count": 55,
   "id": "25593d50",
   "metadata": {},
   "outputs": [
    {
     "data": {
      "image/png": "[encoded data removed]",
      "text/plain": [
       "<Figure size 432x288 with 1 Axes>"
      ]
     },
     "metadata": {
      "needs_background": "light"
     },
     "output_type": "display_data"
    }
   ],
   "source": [
    "plt.imshow(wordcloud, interpolation='bilinear')\n",
    "plt.axis('off')\n",
    "plt.margins(x=0, y=0)\n",
    "plt.show()"
   ]
  },
  {
   "cell_type": "code",
   "execution_count": 56,
   "id": "e6dcbbf8",
   "metadata": {},
   "outputs": [],
   "source": [
    "#Controlling the number of words"
   ]
  },
  {
   "cell_type": "code",
   "execution_count": 57,
   "id": "0e80dfcd",
   "metadata": {},
   "outputs": [],
   "source": [
    "wordcloud = WordCloud(width=480, height=480, max_words=3).generate(clean_data6)"
   ]
  },
  {
   "cell_type": "code",
   "execution_count": 58,
   "id": "3a7d6a3d",
   "metadata": {},
   "outputs": [
    {
     "data": {
      "image/png": "[encoded data removed]",
      "text/plain": [
       "<Figure size 432x288 with 1 Axes>"
      ]
     },
     "metadata": {
      "needs_background": "light"
     },
     "output_type": "display_data"
    }
   ],
   "source": [
    "plt.figure()\n",
    "plt.imshow(wordcloud, interpolation='bilinear')\n",
    "plt.axis('off')\n",
    "plt.margins(x=0, y=0)\n",
    "plt.show()"
   ]
  },
  {
   "cell_type": "code",
   "execution_count": 59,
   "id": "90d9a614",
   "metadata": {},
   "outputs": [],
   "source": [
    "wordcloud = WordCloud(width=480, height=480,colormap='Oranges_r').generate(clean_data6)"
   ]
  },
  {
   "cell_type": "code",
   "execution_count": 60,
   "id": "f0dded99",
   "metadata": {},
   "outputs": [],
   "source": [
    "# Plot the WordCloud"
   ]
  },
  {
   "cell_type": "code",
   "execution_count": 61,
   "id": "75f3af31",
   "metadata": {},
   "outputs": [
    {
     "data": {
      "image/png": "[encoded data removed]",
      "text/plain": [
       "<Figure size 432x288 with 1 Axes>"
      ]
     },
     "metadata": {
      "needs_background": "light"
     },
     "output_type": "display_data"
    }
   ],
   "source": [
    "plt.figure()\n",
    "plt.imshow(wordcloud, interpolation='bilinear')\n",
    "plt.axis('off')\n",
    "plt.margins(x=0, y=0)\n",
    "plt.show()"
   ]
  },
  {
   "cell_type": "markdown",
   "id": "e4b083d0",
   "metadata": {},
   "source": [
    "# Sentiment Analysis"
   ]
  },
  {
   "cell_type": "code",
   "execution_count": 62,
   "id": "21fdb3f0",
   "metadata": {},
   "outputs": [],
   "source": [
    "from nltk.sentiment.vader import SentimentIntensityAnalyzer"
   ]
  },
  {
   "cell_type": "code",
   "execution_count": 63,
   "id": "39a08971",
   "metadata": {},
   "outputs": [
    {
     "name": "stderr",
     "output_type": "stream",
     "text": [
      "[nltk_data] Downloading package vader_lexicon to\n",
      "[nltk_data]     C:\\Users\\hp\\AppData\\Roaming\\nltk_data...\n",
      "[nltk_data]   Package vader_lexicon is already up-to-date!\n"
     ]
    },
    {
     "data": {
      "text/plain": [
       "True"
      ]
     },
     "execution_count": 63,
     "metadata": {},
     "output_type": "execute_result"
    }
   ],
   "source": [
    "nltk.download('vader_lexicon')"
   ]
  },
  {
   "cell_type": "code",
   "execution_count": 64,
   "id": "e376d6d9",
   "metadata": {},
   "outputs": [],
   "source": [
    "analyzer = SentimentIntensityAnalyzer()"
   ]
  },
  {
   "cell_type": "code",
   "execution_count": 65,
   "id": "2e0d3482",
   "metadata": {},
   "outputs": [],
   "source": [
    "scores = analyzer.polarity_scores(clean_data6)"
   ]
  },
  {
   "cell_type": "code",
   "execution_count": 66,
   "id": "af189e23",
   "metadata": {},
   "outputs": [
    {
     "name": "stdout",
     "output_type": "stream",
     "text": [
      "compound:-0.992, neg:0.31, neu:0.635, pos:0.055, "
     ]
    }
   ],
   "source": [
    "for key in sorted(scores):\n",
    "    print('{0}:{1}, '.format(key, scores[key]), end = '')"
   ]
  },
  {
   "cell_type": "code",
   "execution_count": null,
   "id": "cc35fb8d",
   "metadata": {},
   "outputs": [],
   "source": []
  },
  {
   "cell_type": "code",
   "execution_count": null,
   "id": "8186ceb4",
   "metadata": {},
   "outputs": [],
   "source": []
  }
 ],
 "metadata": {
  "kernelspec": {
   "display_name": "Python 3 (ipykernel)",
   "language": "python",
   "name": "python3"
  },
  "language_info": {
   "codemirror_mode": {
    "name": "ipython",
    "version": 3
   },
   "file_extension": ".py",
   "mimetype": "text/x-python",
   "name": "python",
   "nbconvert_exporter": "python",
   "pygments_lexer": "ipython3",
   "version": "3.9.12"
  }
 },
 "nbformat": 4,
 "nbformat_minor": 5
}
