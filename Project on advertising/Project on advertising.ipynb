{
 "cells": [
  {
   "cell_type": "code",
   "execution_count": 1,
   "id": "65bca021",
   "metadata": {},
   "outputs": [],
   "source": [
    "import pandas as pd\n",
    "import numpy as np\n",
    "import seaborn as sns\n",
    "import matplotlib.pyplot as plt"
   ]
  },
  {
   "cell_type": "code",
   "execution_count": 2,
   "id": "b42e07bc",
   "metadata": {},
   "outputs": [],
   "source": [
    "df = pd.read_csv(\"C:\\\\Users\\\\hp\\\\Desktop\\\\Logistic Regression Projects\\\\advertising.csv\")"
   ]
  },
  {
   "cell_type": "code",
   "execution_count": 3,
   "id": "1168f2e6",
   "metadata": {},
   "outputs": [
    {
     "data": {
      "text/html": [
       "<div>\n",
       "<style scoped>\n",
       "    .dataframe tbody tr th:only-of-type {\n",
       "        vertical-align: middle;\n",
       "    }\n",
       "\n",
       "    .dataframe tbody tr th {\n",
       "        vertical-align: top;\n",
       "    }\n",
       "\n",
       "    .dataframe thead th {\n",
       "        text-align: right;\n",
       "    }\n",
       "</style>\n",
       "<table border=\"1\" class=\"dataframe\">\n",
       "  <thead>\n",
       "    <tr style=\"text-align: right;\">\n",
       "      <th></th>\n",
       "      <th>Daily Time Spent on Site</th>\n",
       "      <th>Age</th>\n",
       "      <th>Area Income</th>\n",
       "      <th>Daily Internet Usage</th>\n",
       "      <th>Ad Topic Line</th>\n",
       "      <th>City</th>\n",
       "      <th>Male</th>\n",
       "      <th>Country</th>\n",
       "      <th>Timestamp</th>\n",
       "      <th>Clicked on Ad</th>\n",
       "    </tr>\n",
       "  </thead>\n",
       "  <tbody>\n",
       "    <tr>\n",
       "      <th>0</th>\n",
       "      <td>68.95</td>\n",
       "      <td>35</td>\n",
       "      <td>61833.90</td>\n",
       "      <td>256.09</td>\n",
       "      <td>Cloned 5thgeneration orchestration</td>\n",
       "      <td>Wrightburgh</td>\n",
       "      <td>0</td>\n",
       "      <td>Tunisia</td>\n",
       "      <td>2016-03-27 00:53:11</td>\n",
       "      <td>0</td>\n",
       "    </tr>\n",
       "    <tr>\n",
       "      <th>1</th>\n",
       "      <td>80.23</td>\n",
       "      <td>31</td>\n",
       "      <td>68441.85</td>\n",
       "      <td>193.77</td>\n",
       "      <td>Monitored national standardization</td>\n",
       "      <td>West Jodi</td>\n",
       "      <td>1</td>\n",
       "      <td>Nauru</td>\n",
       "      <td>2016-04-04 01:39:02</td>\n",
       "      <td>0</td>\n",
       "    </tr>\n",
       "    <tr>\n",
       "      <th>2</th>\n",
       "      <td>69.47</td>\n",
       "      <td>26</td>\n",
       "      <td>59785.94</td>\n",
       "      <td>236.50</td>\n",
       "      <td>Organic bottom-line service-desk</td>\n",
       "      <td>Davidton</td>\n",
       "      <td>0</td>\n",
       "      <td>San Marino</td>\n",
       "      <td>2016-03-13 20:35:42</td>\n",
       "      <td>0</td>\n",
       "    </tr>\n",
       "    <tr>\n",
       "      <th>3</th>\n",
       "      <td>74.15</td>\n",
       "      <td>29</td>\n",
       "      <td>54806.18</td>\n",
       "      <td>245.89</td>\n",
       "      <td>Triple-buffered reciprocal time-frame</td>\n",
       "      <td>West Terrifurt</td>\n",
       "      <td>1</td>\n",
       "      <td>Italy</td>\n",
       "      <td>2016-01-10 02:31:19</td>\n",
       "      <td>0</td>\n",
       "    </tr>\n",
       "    <tr>\n",
       "      <th>4</th>\n",
       "      <td>68.37</td>\n",
       "      <td>35</td>\n",
       "      <td>73889.99</td>\n",
       "      <td>225.58</td>\n",
       "      <td>Robust logistical utilization</td>\n",
       "      <td>South Manuel</td>\n",
       "      <td>0</td>\n",
       "      <td>Iceland</td>\n",
       "      <td>2016-06-03 03:36:18</td>\n",
       "      <td>0</td>\n",
       "    </tr>\n",
       "  </tbody>\n",
       "</table>\n",
       "</div>"
      ],
      "text/plain": [
       "   Daily Time Spent on Site  Age  Area Income  Daily Internet Usage  \\\n",
       "0                     68.95   35     61833.90                256.09   \n",
       "1                     80.23   31     68441.85                193.77   \n",
       "2                     69.47   26     59785.94                236.50   \n",
       "3                     74.15   29     54806.18                245.89   \n",
       "4                     68.37   35     73889.99                225.58   \n",
       "\n",
       "                           Ad Topic Line            City  Male     Country  \\\n",
       "0     Cloned 5thgeneration orchestration     Wrightburgh     0     Tunisia   \n",
       "1     Monitored national standardization       West Jodi     1       Nauru   \n",
       "2       Organic bottom-line service-desk        Davidton     0  San Marino   \n",
       "3  Triple-buffered reciprocal time-frame  West Terrifurt     1       Italy   \n",
       "4          Robust logistical utilization    South Manuel     0     Iceland   \n",
       "\n",
       "             Timestamp  Clicked on Ad  \n",
       "0  2016-03-27 00:53:11              0  \n",
       "1  2016-04-04 01:39:02              0  \n",
       "2  2016-03-13 20:35:42              0  \n",
       "3  2016-01-10 02:31:19              0  \n",
       "4  2016-06-03 03:36:18              0  "
      ]
     },
     "execution_count": 3,
     "metadata": {},
     "output_type": "execute_result"
    }
   ],
   "source": [
    "df.head()"
   ]
  },
  {
   "cell_type": "code",
   "execution_count": 4,
   "id": "3dc37151",
   "metadata": {},
   "outputs": [
    {
     "data": {
      "text/plain": [
       "Daily Time Spent on Site    0\n",
       "Age                         0\n",
       "Area Income                 0\n",
       "Daily Internet Usage        0\n",
       "Ad Topic Line               0\n",
       "City                        0\n",
       "Male                        0\n",
       "Country                     0\n",
       "Timestamp                   0\n",
       "Clicked on Ad               0\n",
       "dtype: int64"
      ]
     },
     "execution_count": 4,
     "metadata": {},
     "output_type": "execute_result"
    }
   ],
   "source": [
    "df.isnull().sum()"
   ]
  },
  {
   "cell_type": "code",
   "execution_count": 5,
   "id": "f568ef45",
   "metadata": {},
   "outputs": [
    {
     "data": {
      "text/plain": [
       "(1000, 10)"
      ]
     },
     "execution_count": 5,
     "metadata": {},
     "output_type": "execute_result"
    }
   ],
   "source": [
    "df.shape"
   ]
  },
  {
   "cell_type": "code",
   "execution_count": 6,
   "id": "91780df9",
   "metadata": {},
   "outputs": [
    {
     "name": "stdout",
     "output_type": "stream",
     "text": [
      "<class 'pandas.core.frame.DataFrame'>\n",
      "RangeIndex: 1000 entries, 0 to 999\n",
      "Data columns (total 10 columns):\n",
      " #   Column                    Non-Null Count  Dtype  \n",
      "---  ------                    --------------  -----  \n",
      " 0   Daily Time Spent on Site  1000 non-null   float64\n",
      " 1   Age                       1000 non-null   int64  \n",
      " 2   Area Income               1000 non-null   float64\n",
      " 3   Daily Internet Usage      1000 non-null   float64\n",
      " 4   Ad Topic Line             1000 non-null   object \n",
      " 5   City                      1000 non-null   object \n",
      " 6   Male                      1000 non-null   int64  \n",
      " 7   Country                   1000 non-null   object \n",
      " 8   Timestamp                 1000 non-null   object \n",
      " 9   Clicked on Ad             1000 non-null   int64  \n",
      "dtypes: float64(3), int64(3), object(4)\n",
      "memory usage: 78.2+ KB\n"
     ]
    }
   ],
   "source": [
    "df.info()"
   ]
  },
  {
   "cell_type": "code",
   "execution_count": 7,
   "id": "d4af4ed6",
   "metadata": {},
   "outputs": [
    {
     "data": {
      "text/html": [
       "<div>\n",
       "<style scoped>\n",
       "    .dataframe tbody tr th:only-of-type {\n",
       "        vertical-align: middle;\n",
       "    }\n",
       "\n",
       "    .dataframe tbody tr th {\n",
       "        vertical-align: top;\n",
       "    }\n",
       "\n",
       "    .dataframe thead th {\n",
       "        text-align: right;\n",
       "    }\n",
       "</style>\n",
       "<table border=\"1\" class=\"dataframe\">\n",
       "  <thead>\n",
       "    <tr style=\"text-align: right;\">\n",
       "      <th></th>\n",
       "      <th>Daily Time Spent on Site</th>\n",
       "      <th>Age</th>\n",
       "      <th>Area Income</th>\n",
       "      <th>Daily Internet Usage</th>\n",
       "      <th>Male</th>\n",
       "      <th>Clicked on Ad</th>\n",
       "    </tr>\n",
       "  </thead>\n",
       "  <tbody>\n",
       "    <tr>\n",
       "      <th>count</th>\n",
       "      <td>1000.000000</td>\n",
       "      <td>1000.000000</td>\n",
       "      <td>1000.000000</td>\n",
       "      <td>1000.000000</td>\n",
       "      <td>1000.000000</td>\n",
       "      <td>1000.00000</td>\n",
       "    </tr>\n",
       "    <tr>\n",
       "      <th>mean</th>\n",
       "      <td>65.000200</td>\n",
       "      <td>36.009000</td>\n",
       "      <td>55000.000080</td>\n",
       "      <td>180.000100</td>\n",
       "      <td>0.481000</td>\n",
       "      <td>0.50000</td>\n",
       "    </tr>\n",
       "    <tr>\n",
       "      <th>std</th>\n",
       "      <td>15.853615</td>\n",
       "      <td>8.785562</td>\n",
       "      <td>13414.634022</td>\n",
       "      <td>43.902339</td>\n",
       "      <td>0.499889</td>\n",
       "      <td>0.50025</td>\n",
       "    </tr>\n",
       "    <tr>\n",
       "      <th>min</th>\n",
       "      <td>32.600000</td>\n",
       "      <td>19.000000</td>\n",
       "      <td>13996.500000</td>\n",
       "      <td>104.780000</td>\n",
       "      <td>0.000000</td>\n",
       "      <td>0.00000</td>\n",
       "    </tr>\n",
       "    <tr>\n",
       "      <th>25%</th>\n",
       "      <td>51.360000</td>\n",
       "      <td>29.000000</td>\n",
       "      <td>47031.802500</td>\n",
       "      <td>138.830000</td>\n",
       "      <td>0.000000</td>\n",
       "      <td>0.00000</td>\n",
       "    </tr>\n",
       "    <tr>\n",
       "      <th>50%</th>\n",
       "      <td>68.215000</td>\n",
       "      <td>35.000000</td>\n",
       "      <td>57012.300000</td>\n",
       "      <td>183.130000</td>\n",
       "      <td>0.000000</td>\n",
       "      <td>0.50000</td>\n",
       "    </tr>\n",
       "    <tr>\n",
       "      <th>75%</th>\n",
       "      <td>78.547500</td>\n",
       "      <td>42.000000</td>\n",
       "      <td>65470.635000</td>\n",
       "      <td>218.792500</td>\n",
       "      <td>1.000000</td>\n",
       "      <td>1.00000</td>\n",
       "    </tr>\n",
       "    <tr>\n",
       "      <th>max</th>\n",
       "      <td>91.430000</td>\n",
       "      <td>61.000000</td>\n",
       "      <td>79484.800000</td>\n",
       "      <td>269.960000</td>\n",
       "      <td>1.000000</td>\n",
       "      <td>1.00000</td>\n",
       "    </tr>\n",
       "  </tbody>\n",
       "</table>\n",
       "</div>"
      ],
      "text/plain": [
       "       Daily Time Spent on Site          Age   Area Income  \\\n",
       "count               1000.000000  1000.000000   1000.000000   \n",
       "mean                  65.000200    36.009000  55000.000080   \n",
       "std                   15.853615     8.785562  13414.634022   \n",
       "min                   32.600000    19.000000  13996.500000   \n",
       "25%                   51.360000    29.000000  47031.802500   \n",
       "50%                   68.215000    35.000000  57012.300000   \n",
       "75%                   78.547500    42.000000  65470.635000   \n",
       "max                   91.430000    61.000000  79484.800000   \n",
       "\n",
       "       Daily Internet Usage         Male  Clicked on Ad  \n",
       "count           1000.000000  1000.000000     1000.00000  \n",
       "mean             180.000100     0.481000        0.50000  \n",
       "std               43.902339     0.499889        0.50025  \n",
       "min              104.780000     0.000000        0.00000  \n",
       "25%              138.830000     0.000000        0.00000  \n",
       "50%              183.130000     0.000000        0.50000  \n",
       "75%              218.792500     1.000000        1.00000  \n",
       "max              269.960000     1.000000        1.00000  "
      ]
     },
     "execution_count": 7,
     "metadata": {},
     "output_type": "execute_result"
    }
   ],
   "source": [
    "df.describe()"
   ]
  },
  {
   "cell_type": "code",
   "execution_count": 8,
   "id": "1a54f2ba",
   "metadata": {},
   "outputs": [
    {
     "data": {
      "text/html": [
       "<div>\n",
       "<style scoped>\n",
       "    .dataframe tbody tr th:only-of-type {\n",
       "        vertical-align: middle;\n",
       "    }\n",
       "\n",
       "    .dataframe tbody tr th {\n",
       "        vertical-align: top;\n",
       "    }\n",
       "\n",
       "    .dataframe thead th {\n",
       "        text-align: right;\n",
       "    }\n",
       "</style>\n",
       "<table border=\"1\" class=\"dataframe\">\n",
       "  <thead>\n",
       "    <tr style=\"text-align: right;\">\n",
       "      <th></th>\n",
       "      <th>Daily Time Spent on Site</th>\n",
       "      <th>Age</th>\n",
       "      <th>Area Income</th>\n",
       "      <th>Daily Internet Usage</th>\n",
       "      <th>Ad Topic Line</th>\n",
       "      <th>City</th>\n",
       "      <th>Male</th>\n",
       "      <th>Country</th>\n",
       "      <th>Timestamp</th>\n",
       "      <th>Clicked on Ad</th>\n",
       "    </tr>\n",
       "  </thead>\n",
       "  <tbody>\n",
       "  </tbody>\n",
       "</table>\n",
       "</div>"
      ],
      "text/plain": [
       "Empty DataFrame\n",
       "Columns: [Daily Time Spent on Site, Age, Area Income, Daily Internet Usage, Ad Topic Line, City, Male, Country, Timestamp, Clicked on Ad]\n",
       "Index: []"
      ]
     },
     "execution_count": 8,
     "metadata": {},
     "output_type": "execute_result"
    }
   ],
   "source": [
    "df[df.duplicated()]"
   ]
  },
  {
   "cell_type": "code",
   "execution_count": 9,
   "id": "948d4b93",
   "metadata": {},
   "outputs": [],
   "source": [
    "df = df.drop(columns=['Ad Topic Line'], axis=1)"
   ]
  },
  {
   "cell_type": "code",
   "execution_count": null,
   "id": "8a1ee4f6",
   "metadata": {},
   "outputs": [],
   "source": []
  },
  {
   "cell_type": "markdown",
   "id": "2cea4652",
   "metadata": {},
   "source": [
    "# Target variable-Clicked on Ad"
   ]
  },
  {
   "cell_type": "code",
   "execution_count": 11,
   "id": "50ad4e9e",
   "metadata": {},
   "outputs": [
    {
     "data": {
      "text/plain": [
       "0    500\n",
       "1    500\n",
       "Name: Clicked on Ad, dtype: int64"
      ]
     },
     "execution_count": 11,
     "metadata": {},
     "output_type": "execute_result"
    }
   ],
   "source": [
    "df['Clicked on Ad'].value_counts()"
   ]
  },
  {
   "cell_type": "code",
   "execution_count": 12,
   "id": "0c7c3f0c",
   "metadata": {},
   "outputs": [
    {
     "name": "stderr",
     "output_type": "stream",
     "text": [
      "C:\\Users\\hp\\anaconda3\\lib\\site-packages\\seaborn\\_decorators.py:36: FutureWarning: Pass the following variable as a keyword arg: x. From version 0.12, the only valid positional argument will be `data`, and passing other arguments without an explicit keyword will result in an error or misinterpretation.\n",
      "  warnings.warn(\n"
     ]
    },
    {
     "data": {
      "text/plain": [
       "Text(0.5, 1.0, 'Barplot of Clicked on Ad')"
      ]
     },
     "execution_count": 12,
     "metadata": {},
     "output_type": "execute_result"
    },
    {
     "data": {
      "image/png": "[encoded data removed]",
      "text/plain": [
       "<Figure size 432x288 with 1 Axes>"
      ]
     },
     "metadata": {
      "needs_background": "light"
     },
     "output_type": "display_data"
    }
   ],
   "source": [
    "sns.countplot(df['Clicked on Ad'], color='red')\n",
    "plt.title('Barplot of Clicked on Ad')"
   ]
  },
  {
   "cell_type": "code",
   "execution_count": null,
   "id": "a6b87ee4",
   "metadata": {},
   "outputs": [],
   "source": []
  },
  {
   "cell_type": "markdown",
   "id": "5a193659",
   "metadata": {},
   "source": [
    "# Daily Time Spent on Site"
   ]
  },
  {
   "cell_type": "code",
   "execution_count": 13,
   "id": "7c2cc994",
   "metadata": {},
   "outputs": [
    {
     "data": {
      "text/plain": [
       "77.05    3\n",
       "62.26    3\n",
       "75.55    3\n",
       "84.53    3\n",
       "78.76    3\n",
       "        ..\n",
       "61.09    1\n",
       "65.77    1\n",
       "37.87    1\n",
       "60.91    1\n",
       "45.01    1\n",
       "Name: Daily Time Spent on Site, Length: 900, dtype: int64"
      ]
     },
     "execution_count": 13,
     "metadata": {},
     "output_type": "execute_result"
    }
   ],
   "source": [
    "df['Daily Time Spent on Site'].value_counts()"
   ]
  },
  {
   "cell_type": "code",
   "execution_count": 14,
   "id": "c7bbf5b8",
   "metadata": {},
   "outputs": [
    {
     "name": "stderr",
     "output_type": "stream",
     "text": [
      "C:\\Users\\hp\\anaconda3\\lib\\site-packages\\seaborn\\distributions.py:2619: FutureWarning: `distplot` is a deprecated function and will be removed in a future version. Please adapt your code to use either `displot` (a figure-level function with similar flexibility) or `histplot` (an axes-level function for histograms).\n",
      "  warnings.warn(msg, FutureWarning)\n"
     ]
    },
    {
     "data": {
      "text/plain": [
       "Text(0.5, 1.0, 'Histogram of Daily Time Spent on Site')"
      ]
     },
     "execution_count": 14,
     "metadata": {},
     "output_type": "execute_result"
    },
    {
     "data": {
      "image/png": "[encoded data removed]",
      "text/plain": [
       "<Figure size 432x288 with 1 Axes>"
      ]
     },
     "metadata": {
      "needs_background": "light"
     },
     "output_type": "display_data"
    }
   ],
   "source": [
    "sns.distplot(df['Daily Time Spent on Site'], color = 'green')\n",
    "plt.title('Histogram of Daily Time Spent on Site')"
   ]
  },
  {
   "cell_type": "code",
   "execution_count": 15,
   "id": "082ee7c1",
   "metadata": {},
   "outputs": [
    {
     "name": "stderr",
     "output_type": "stream",
     "text": [
      "C:\\Users\\hp\\anaconda3\\lib\\site-packages\\seaborn\\_decorators.py:36: FutureWarning: Pass the following variable as a keyword arg: x. From version 0.12, the only valid positional argument will be `data`, and passing other arguments without an explicit keyword will result in an error or misinterpretation.\n",
      "  warnings.warn(\n"
     ]
    },
    {
     "data": {
      "text/plain": [
       "Text(0.5, 1.0, 'Boxplot of Daily Time Spent on Site')"
      ]
     },
     "execution_count": 15,
     "metadata": {},
     "output_type": "execute_result"
    },
    {
     "data": {
      "image/png": "[encoded data removed]",
      "text/plain": [
       "<Figure size 432x288 with 1 Axes>"
      ]
     },
     "metadata": {
      "needs_background": "light"
     },
     "output_type": "display_data"
    }
   ],
   "source": [
    "sns.boxplot(df['Daily Time Spent on Site'], color = 'blue')\n",
    "plt.title('Boxplot of Daily Time Spent on Site')"
   ]
  },
  {
   "cell_type": "code",
   "execution_count": null,
   "id": "7c82d8e5",
   "metadata": {},
   "outputs": [],
   "source": []
  },
  {
   "cell_type": "markdown",
   "id": "8871cd78",
   "metadata": {},
   "source": [
    "# Age"
   ]
  },
  {
   "cell_type": "code",
   "execution_count": 16,
   "id": "569b76ab",
   "metadata": {},
   "outputs": [
    {
     "data": {
      "text/plain": [
       "31    60\n",
       "36    50\n",
       "28    48\n",
       "29    48\n",
       "33    43\n",
       "35    39\n",
       "30    39\n",
       "34    39\n",
       "32    38\n",
       "26    37\n",
       "38    37\n",
       "37    36\n",
       "40    36\n",
       "27    33\n",
       "41    32\n",
       "45    30\n",
       "39    30\n",
       "25    27\n",
       "42    26\n",
       "43    23\n",
       "44    21\n",
       "24    21\n",
       "50    20\n",
       "23    19\n",
       "46    18\n",
       "49    18\n",
       "48    16\n",
       "52    15\n",
       "47    13\n",
       "22    13\n",
       "51    12\n",
       "53    10\n",
       "54     9\n",
       "55     7\n",
       "20     6\n",
       "21     6\n",
       "57     6\n",
       "19     6\n",
       "60     4\n",
       "58     4\n",
       "56     2\n",
       "59     2\n",
       "61     1\n",
       "Name: Age, dtype: int64"
      ]
     },
     "execution_count": 16,
     "metadata": {},
     "output_type": "execute_result"
    }
   ],
   "source": [
    "df.Age.value_counts()"
   ]
  },
  {
   "cell_type": "code",
   "execution_count": 17,
   "id": "c8f0ae58",
   "metadata": {},
   "outputs": [
    {
     "name": "stderr",
     "output_type": "stream",
     "text": [
      "C:\\Users\\hp\\anaconda3\\lib\\site-packages\\seaborn\\distributions.py:2619: FutureWarning: `distplot` is a deprecated function and will be removed in a future version. Please adapt your code to use either `displot` (a figure-level function with similar flexibility) or `histplot` (an axes-level function for histograms).\n",
      "  warnings.warn(msg, FutureWarning)\n"
     ]
    },
    {
     "data": {
      "text/plain": [
       "Text(0.5, 1.0, 'Histogram of Age')"
      ]
     },
     "execution_count": 17,
     "metadata": {},
     "output_type": "execute_result"
    },
    {
     "data": {
      "image/png": "[encoded data removed]",
      "text/plain": [
       "<Figure size 432x288 with 1 Axes>"
      ]
     },
     "metadata": {
      "needs_background": "light"
     },
     "output_type": "display_data"
    }
   ],
   "source": [
    "sns.distplot(df.Age, color = 'brown')\n",
    "plt.title('Histogram of Age')"
   ]
  },
  {
   "cell_type": "code",
   "execution_count": 18,
   "id": "a81478de",
   "metadata": {},
   "outputs": [
    {
     "name": "stderr",
     "output_type": "stream",
     "text": [
      "C:\\Users\\hp\\anaconda3\\lib\\site-packages\\seaborn\\_decorators.py:36: FutureWarning: Pass the following variable as a keyword arg: x. From version 0.12, the only valid positional argument will be `data`, and passing other arguments without an explicit keyword will result in an error or misinterpretation.\n",
      "  warnings.warn(\n"
     ]
    },
    {
     "data": {
      "text/plain": [
       "Text(0.5, 1.0, 'Boxplot of Age')"
      ]
     },
     "execution_count": 18,
     "metadata": {},
     "output_type": "execute_result"
    },
    {
     "data": {
      "image/png": "[encoded data removed]",
      "text/plain": [
       "<Figure size 432x288 with 1 Axes>"
      ]
     },
     "metadata": {
      "needs_background": "light"
     },
     "output_type": "display_data"
    }
   ],
   "source": [
    "sns.boxplot(df.Age, color = 'orange')\n",
    "plt.title('Boxplot of Age')"
   ]
  },
  {
   "cell_type": "code",
   "execution_count": null,
   "id": "afa51bb6",
   "metadata": {},
   "outputs": [],
   "source": []
  },
  {
   "cell_type": "markdown",
   "id": "17cc9b4b",
   "metadata": {},
   "source": [
    "# Area Income"
   ]
  },
  {
   "cell_type": "code",
   "execution_count": 19,
   "id": "5068c84d",
   "metadata": {},
   "outputs": [
    {
     "data": {
      "text/plain": [
       "61833.90    1\n",
       "58966.22    1\n",
       "69805.70    1\n",
       "60315.19    1\n",
       "67323.00    1\n",
       "           ..\n",
       "74024.61    1\n",
       "60550.66    1\n",
       "57983.30    1\n",
       "52736.33    1\n",
       "29875.80    1\n",
       "Name: Area Income, Length: 1000, dtype: int64"
      ]
     },
     "execution_count": 19,
     "metadata": {},
     "output_type": "execute_result"
    }
   ],
   "source": [
    "df['Area Income'].value_counts()"
   ]
  },
  {
   "cell_type": "code",
   "execution_count": 20,
   "id": "ceac51b8",
   "metadata": {},
   "outputs": [
    {
     "name": "stderr",
     "output_type": "stream",
     "text": [
      "C:\\Users\\hp\\anaconda3\\lib\\site-packages\\seaborn\\distributions.py:2619: FutureWarning: `distplot` is a deprecated function and will be removed in a future version. Please adapt your code to use either `displot` (a figure-level function with similar flexibility) or `histplot` (an axes-level function for histograms).\n",
      "  warnings.warn(msg, FutureWarning)\n"
     ]
    },
    {
     "data": {
      "text/plain": [
       "Text(0.5, 1.0, 'Histogram of Area Income')"
      ]
     },
     "execution_count": 20,
     "metadata": {},
     "output_type": "execute_result"
    },
    {
     "data": {
      "image/png": "[encoded data removed]",
      "text/plain": [
       "<Figure size 432x288 with 1 Axes>"
      ]
     },
     "metadata": {
      "needs_background": "light"
     },
     "output_type": "display_data"
    }
   ],
   "source": [
    "sns.distplot(df['Area Income'], color = 'brown')\n",
    "plt.title('Histogram of Area Income')"
   ]
  },
  {
   "cell_type": "code",
   "execution_count": 21,
   "id": "72b74995",
   "metadata": {},
   "outputs": [
    {
     "name": "stderr",
     "output_type": "stream",
     "text": [
      "C:\\Users\\hp\\anaconda3\\lib\\site-packages\\seaborn\\_decorators.py:36: FutureWarning: Pass the following variable as a keyword arg: x. From version 0.12, the only valid positional argument will be `data`, and passing other arguments without an explicit keyword will result in an error or misinterpretation.\n",
      "  warnings.warn(\n"
     ]
    },
    {
     "data": {
      "text/plain": [
       "Text(0.5, 1.0, 'Boxplot of Area Income')"
      ]
     },
     "execution_count": 21,
     "metadata": {},
     "output_type": "execute_result"
    },
    {
     "data": {
      "image/png": "[encoded data removed]",
      "text/plain": [
       "<Figure size 432x288 with 1 Axes>"
      ]
     },
     "metadata": {
      "needs_background": "light"
     },
     "output_type": "display_data"
    }
   ],
   "source": [
    "sns.boxplot(df['Area Income'], color = 'orange')\n",
    "plt.title('Boxplot of Area Income')"
   ]
  },
  {
   "cell_type": "code",
   "execution_count": 22,
   "id": "08fa2f92",
   "metadata": {},
   "outputs": [],
   "source": [
    "import math\n",
    "import scipy.stats as stats\n",
    "from scipy import stats"
   ]
  },
  {
   "cell_type": "code",
   "execution_count": 23,
   "id": "d48490f7",
   "metadata": {},
   "outputs": [
    {
     "data": {
      "text/plain": [
       "18438.832499999997"
      ]
     },
     "execution_count": 23,
     "metadata": {},
     "output_type": "execute_result"
    }
   ],
   "source": [
    "iqr = stats.iqr(df['Area Income'])\n",
    "iqr"
   ]
  },
  {
   "cell_type": "code",
   "execution_count": 24,
   "id": "32ea6d93",
   "metadata": {},
   "outputs": [
    {
     "data": {
      "text/plain": [
       "65470.634999999995"
      ]
     },
     "execution_count": 24,
     "metadata": {},
     "output_type": "execute_result"
    }
   ],
   "source": [
    "q3=df['Area Income'].quantile(0.75)\n",
    "q3"
   ]
  },
  {
   "cell_type": "code",
   "execution_count": 25,
   "id": "802a91a7",
   "metadata": {},
   "outputs": [
    {
     "data": {
      "text/plain": [
       "47031.8025"
      ]
     },
     "execution_count": 25,
     "metadata": {},
     "output_type": "execute_result"
    }
   ],
   "source": [
    "q1=df['Area Income'].quantile(0.25)\n",
    "q1"
   ]
  },
  {
   "cell_type": "code",
   "execution_count": 26,
   "id": "42a1db90",
   "metadata": {},
   "outputs": [
    {
     "data": {
      "text/plain": [
       "93128.88375"
      ]
     },
     "execution_count": 26,
     "metadata": {},
     "output_type": "execute_result"
    }
   ],
   "source": [
    "upper = q3+(1.5*iqr)\n",
    "upper"
   ]
  },
  {
   "cell_type": "code",
   "execution_count": 27,
   "id": "4cffddb0",
   "metadata": {},
   "outputs": [
    {
     "data": {
      "text/plain": [
       "19373.553750000003"
      ]
     },
     "execution_count": 27,
     "metadata": {},
     "output_type": "execute_result"
    }
   ],
   "source": [
    "lower = q1-(1.5*iqr)\n",
    "lower"
   ]
  },
  {
   "cell_type": "code",
   "execution_count": 28,
   "id": "97c1661b",
   "metadata": {},
   "outputs": [],
   "source": [
    "df['Area Income'] = np.where(df['Area Income']<lower, lower, df['Area Income'])"
   ]
  },
  {
   "cell_type": "code",
   "execution_count": 29,
   "id": "701979be",
   "metadata": {},
   "outputs": [
    {
     "name": "stderr",
     "output_type": "stream",
     "text": [
      "C:\\Users\\hp\\anaconda3\\lib\\site-packages\\seaborn\\_decorators.py:36: FutureWarning: Pass the following variable as a keyword arg: x. From version 0.12, the only valid positional argument will be `data`, and passing other arguments without an explicit keyword will result in an error or misinterpretation.\n",
      "  warnings.warn(\n"
     ]
    },
    {
     "data": {
      "text/plain": [
       "Text(0.5, 1.0, 'Boxplot of Area Income')"
      ]
     },
     "execution_count": 29,
     "metadata": {},
     "output_type": "execute_result"
    },
    {
     "data": {
      "image/png": "[encoded data removed]",
      "text/plain": [
       "<Figure size 432x288 with 1 Axes>"
      ]
     },
     "metadata": {
      "needs_background": "light"
     },
     "output_type": "display_data"
    }
   ],
   "source": [
    "sns.boxplot(df['Area Income'], color = 'orange')\n",
    "plt.title('Boxplot of Area Income')"
   ]
  },
  {
   "cell_type": "code",
   "execution_count": null,
   "id": "1d0a54fd",
   "metadata": {},
   "outputs": [],
   "source": []
  },
  {
   "cell_type": "markdown",
   "id": "2f800264",
   "metadata": {},
   "source": [
    "# Daily Internet Usage"
   ]
  },
  {
   "cell_type": "code",
   "execution_count": 30,
   "id": "b89386a7",
   "metadata": {},
   "outputs": [
    {
     "data": {
      "text/plain": [
       "161.16    2\n",
       "158.22    2\n",
       "228.81    2\n",
       "162.44    2\n",
       "211.87    2\n",
       "         ..\n",
       "115.35    1\n",
       "230.91    1\n",
       "205.50    1\n",
       "131.68    1\n",
       "178.35    1\n",
       "Name: Daily Internet Usage, Length: 966, dtype: int64"
      ]
     },
     "execution_count": 30,
     "metadata": {},
     "output_type": "execute_result"
    }
   ],
   "source": [
    "df['Daily Internet Usage'].value_counts()"
   ]
  },
  {
   "cell_type": "code",
   "execution_count": 31,
   "id": "d46e76f3",
   "metadata": {},
   "outputs": [
    {
     "name": "stderr",
     "output_type": "stream",
     "text": [
      "C:\\Users\\hp\\anaconda3\\lib\\site-packages\\seaborn\\distributions.py:2619: FutureWarning: `distplot` is a deprecated function and will be removed in a future version. Please adapt your code to use either `displot` (a figure-level function with similar flexibility) or `histplot` (an axes-level function for histograms).\n",
      "  warnings.warn(msg, FutureWarning)\n"
     ]
    },
    {
     "data": {
      "text/plain": [
       "Text(0.5, 1.0, 'Histogram of Daily Internet Usage')"
      ]
     },
     "execution_count": 31,
     "metadata": {},
     "output_type": "execute_result"
    },
    {
     "data": {
      "image/png": "[encoded data removed]",
      "text/plain": [
       "<Figure size 432x288 with 1 Axes>"
      ]
     },
     "metadata": {
      "needs_background": "light"
     },
     "output_type": "display_data"
    }
   ],
   "source": [
    "sns.distplot(df['Daily Internet Usage'], color = 'blue')\n",
    "plt.title('Histogram of Daily Internet Usage')"
   ]
  },
  {
   "cell_type": "code",
   "execution_count": 32,
   "id": "75be9d19",
   "metadata": {},
   "outputs": [
    {
     "name": "stderr",
     "output_type": "stream",
     "text": [
      "C:\\Users\\hp\\anaconda3\\lib\\site-packages\\seaborn\\_decorators.py:36: FutureWarning: Pass the following variable as a keyword arg: x. From version 0.12, the only valid positional argument will be `data`, and passing other arguments without an explicit keyword will result in an error or misinterpretation.\n",
      "  warnings.warn(\n"
     ]
    },
    {
     "data": {
      "text/plain": [
       "Text(0.5, 1.0, 'Boxplot of Daily Internet Usage')"
      ]
     },
     "execution_count": 32,
     "metadata": {},
     "output_type": "execute_result"
    },
    {
     "data": {
      "image/png": "[encoded data removed]",
      "text/plain": [
       "<Figure size 432x288 with 1 Axes>"
      ]
     },
     "metadata": {
      "needs_background": "light"
     },
     "output_type": "display_data"
    }
   ],
   "source": [
    "sns.boxplot(df['Daily Internet Usage'], color = 'red')\n",
    "plt.title('Boxplot of Daily Internet Usage')"
   ]
  },
  {
   "cell_type": "code",
   "execution_count": null,
   "id": "2cb8e44f",
   "metadata": {},
   "outputs": [],
   "source": []
  },
  {
   "cell_type": "markdown",
   "id": "bce4a9fa",
   "metadata": {},
   "source": [
    "# City"
   ]
  },
  {
   "cell_type": "code",
   "execution_count": 33,
   "id": "2cddb647",
   "metadata": {},
   "outputs": [
    {
     "data": {
      "text/plain": [
       "Lisamouth         3\n",
       "Williamsport      3\n",
       "Wrightburgh       2\n",
       "Lake Jose         2\n",
       "Robertfurt        2\n",
       "                 ..\n",
       "Burgessside       1\n",
       "Hurleyborough     1\n",
       "Garychester       1\n",
       "East Kevinbury    1\n",
       "Ronniemouth       1\n",
       "Name: City, Length: 969, dtype: int64"
      ]
     },
     "execution_count": 33,
     "metadata": {},
     "output_type": "execute_result"
    }
   ],
   "source": [
    "df.City.value_counts()"
   ]
  },
  {
   "cell_type": "code",
   "execution_count": 34,
   "id": "eaa0de64",
   "metadata": {},
   "outputs": [
    {
     "name": "stderr",
     "output_type": "stream",
     "text": [
      "C:\\Users\\hp\\anaconda3\\lib\\site-packages\\seaborn\\_decorators.py:36: FutureWarning: Pass the following variable as a keyword arg: x. From version 0.12, the only valid positional argument will be `data`, and passing other arguments without an explicit keyword will result in an error or misinterpretation.\n",
      "  warnings.warn(\n"
     ]
    },
    {
     "data": {
      "text/plain": [
       "<AxesSubplot:xlabel='City', ylabel='count'>"
      ]
     },
     "execution_count": 34,
     "metadata": {},
     "output_type": "execute_result"
    },
    {
     "data": {
      "image/png": "[encoded data removed]",
      "text/plain": [
       "<Figure size 432x288 with 1 Axes>"
      ]
     },
     "metadata": {
      "needs_background": "light"
     },
     "output_type": "display_data"
    }
   ],
   "source": [
    "sns.countplot(df.City)"
   ]
  },
  {
   "cell_type": "code",
   "execution_count": null,
   "id": "f8fd68cc",
   "metadata": {},
   "outputs": [],
   "source": []
  },
  {
   "cell_type": "markdown",
   "id": "a8e6a42c",
   "metadata": {},
   "source": [
    "# Male"
   ]
  },
  {
   "cell_type": "code",
   "execution_count": 35,
   "id": "3aa42c07",
   "metadata": {},
   "outputs": [],
   "source": [
    "df.rename(columns={\"Male\":'gender'},inplace=True)"
   ]
  },
  {
   "cell_type": "code",
   "execution_count": 36,
   "id": "65730aa5",
   "metadata": {},
   "outputs": [
    {
     "data": {
      "text/plain": [
       "0    519\n",
       "1    481\n",
       "Name: gender, dtype: int64"
      ]
     },
     "execution_count": 36,
     "metadata": {},
     "output_type": "execute_result"
    }
   ],
   "source": [
    "df.gender.value_counts()"
   ]
  },
  {
   "cell_type": "code",
   "execution_count": 37,
   "id": "e94e627d",
   "metadata": {},
   "outputs": [
    {
     "name": "stderr",
     "output_type": "stream",
     "text": [
      "C:\\Users\\hp\\anaconda3\\lib\\site-packages\\seaborn\\_decorators.py:36: FutureWarning: Pass the following variable as a keyword arg: x. From version 0.12, the only valid positional argument will be `data`, and passing other arguments without an explicit keyword will result in an error or misinterpretation.\n",
      "  warnings.warn(\n"
     ]
    },
    {
     "data": {
      "text/plain": [
       "Text(0.5, 1.0, 'Barplot of Gender')"
      ]
     },
     "execution_count": 37,
     "metadata": {},
     "output_type": "execute_result"
    },
    {
     "data": {
      "image/png": "[encoded data removed]",
      "text/plain": [
       "<Figure size 432x288 with 1 Axes>"
      ]
     },
     "metadata": {
      "needs_background": "light"
     },
     "output_type": "display_data"
    }
   ],
   "source": [
    "sns.countplot(df['gender'], color='green')\n",
    "plt.title('Barplot of Gender')"
   ]
  },
  {
   "cell_type": "code",
   "execution_count": null,
   "id": "c581a0a3",
   "metadata": {},
   "outputs": [],
   "source": []
  },
  {
   "cell_type": "markdown",
   "id": "ee63ca6b",
   "metadata": {},
   "source": [
    "# Country"
   ]
  },
  {
   "cell_type": "code",
   "execution_count": 38,
   "id": "483c1b4f",
   "metadata": {},
   "outputs": [
    {
     "data": {
      "text/plain": [
       "France                                                 9\n",
       "Czech Republic                                         9\n",
       "Peru                                                   8\n",
       "Turkey                                                 8\n",
       "Greece                                                 8\n",
       "                                                      ..\n",
       "Romania                                                1\n",
       "British Indian Ocean Territory (Chagos Archipelago)    1\n",
       "Germany                                                1\n",
       "Aruba                                                  1\n",
       "Lesotho                                                1\n",
       "Name: Country, Length: 237, dtype: int64"
      ]
     },
     "execution_count": 38,
     "metadata": {},
     "output_type": "execute_result"
    }
   ],
   "source": [
    "df.Country.value_counts()"
   ]
  },
  {
   "cell_type": "code",
   "execution_count": 39,
   "id": "b61125a2",
   "metadata": {},
   "outputs": [
    {
     "name": "stderr",
     "output_type": "stream",
     "text": [
      "C:\\Users\\hp\\anaconda3\\lib\\site-packages\\seaborn\\_decorators.py:36: FutureWarning: Pass the following variable as a keyword arg: x. From version 0.12, the only valid positional argument will be `data`, and passing other arguments without an explicit keyword will result in an error or misinterpretation.\n",
      "  warnings.warn(\n"
     ]
    },
    {
     "data": {
      "text/plain": [
       "<AxesSubplot:xlabel='Country', ylabel='count'>"
      ]
     },
     "execution_count": 39,
     "metadata": {},
     "output_type": "execute_result"
    },
    {
     "data": {
      "image/png": "[encoded data removed]",
      "text/plain": [
       "<Figure size 432x288 with 1 Axes>"
      ]
     },
     "metadata": {
      "needs_background": "light"
     },
     "output_type": "display_data"
    }
   ],
   "source": [
    "sns.countplot(df.Country)"
   ]
  },
  {
   "cell_type": "code",
   "execution_count": null,
   "id": "430f291f",
   "metadata": {},
   "outputs": [],
   "source": []
  },
  {
   "cell_type": "markdown",
   "id": "6a6df040",
   "metadata": {},
   "source": [
    "# Timestamp"
   ]
  },
  {
   "cell_type": "code",
   "execution_count": 40,
   "id": "c26596e2",
   "metadata": {},
   "outputs": [
    {
     "data": {
      "text/plain": [
       "count                    1000\n",
       "unique                   1000\n",
       "top       2016-03-27 00:53:11\n",
       "freq                        1\n",
       "Name: Timestamp, dtype: object"
      ]
     },
     "execution_count": 40,
     "metadata": {},
     "output_type": "execute_result"
    }
   ],
   "source": [
    "df['Timestamp'].describe()"
   ]
  },
  {
   "cell_type": "code",
   "execution_count": 41,
   "id": "de9f9006",
   "metadata": {},
   "outputs": [],
   "source": [
    "df['Timestamp']=pd.to_datetime(df['Timestamp'])"
   ]
  },
  {
   "cell_type": "code",
   "execution_count": 42,
   "id": "cc9459d5",
   "metadata": {},
   "outputs": [
    {
     "name": "stdout",
     "output_type": "stream",
     "text": [
      "<class 'pandas.core.frame.DataFrame'>\n",
      "RangeIndex: 1000 entries, 0 to 999\n",
      "Data columns (total 9 columns):\n",
      " #   Column                    Non-Null Count  Dtype         \n",
      "---  ------                    --------------  -----         \n",
      " 0   Daily Time Spent on Site  1000 non-null   float64       \n",
      " 1   Age                       1000 non-null   int64         \n",
      " 2   Area Income               1000 non-null   float64       \n",
      " 3   Daily Internet Usage      1000 non-null   float64       \n",
      " 4   City                      1000 non-null   object        \n",
      " 5   gender                    1000 non-null   int64         \n",
      " 6   Country                   1000 non-null   object        \n",
      " 7   Timestamp                 1000 non-null   datetime64[ns]\n",
      " 8   Clicked on Ad             1000 non-null   int64         \n",
      "dtypes: datetime64[ns](1), float64(3), int64(3), object(2)\n",
      "memory usage: 70.4+ KB\n"
     ]
    }
   ],
   "source": [
    "df.info()"
   ]
  },
  {
   "cell_type": "code",
   "execution_count": 43,
   "id": "46303cc0",
   "metadata": {},
   "outputs": [],
   "source": [
    "df['year']=df['Timestamp'].dt.year"
   ]
  },
  {
   "cell_type": "code",
   "execution_count": 44,
   "id": "f0e7748a",
   "metadata": {},
   "outputs": [],
   "source": [
    "df['month']=df['Timestamp'].dt.month_name()\n",
    "df['day']=df['Timestamp'].dt.day_name()\n",
    "df['hour']=df['Timestamp'].dt.hour"
   ]
  },
  {
   "cell_type": "code",
   "execution_count": 45,
   "id": "02c901aa",
   "metadata": {},
   "outputs": [
    {
     "data": {
      "text/html": [
       "<div>\n",
       "<style scoped>\n",
       "    .dataframe tbody tr th:only-of-type {\n",
       "        vertical-align: middle;\n",
       "    }\n",
       "\n",
       "    .dataframe tbody tr th {\n",
       "        vertical-align: top;\n",
       "    }\n",
       "\n",
       "    .dataframe thead th {\n",
       "        text-align: right;\n",
       "    }\n",
       "</style>\n",
       "<table border=\"1\" class=\"dataframe\">\n",
       "  <thead>\n",
       "    <tr style=\"text-align: right;\">\n",
       "      <th></th>\n",
       "      <th>Daily Time Spent on Site</th>\n",
       "      <th>Age</th>\n",
       "      <th>Area Income</th>\n",
       "      <th>Daily Internet Usage</th>\n",
       "      <th>City</th>\n",
       "      <th>gender</th>\n",
       "      <th>Country</th>\n",
       "      <th>Timestamp</th>\n",
       "      <th>Clicked on Ad</th>\n",
       "      <th>year</th>\n",
       "      <th>month</th>\n",
       "      <th>day</th>\n",
       "      <th>hour</th>\n",
       "    </tr>\n",
       "  </thead>\n",
       "  <tbody>\n",
       "    <tr>\n",
       "      <th>0</th>\n",
       "      <td>68.95</td>\n",
       "      <td>35</td>\n",
       "      <td>61833.90</td>\n",
       "      <td>256.09</td>\n",
       "      <td>Wrightburgh</td>\n",
       "      <td>0</td>\n",
       "      <td>Tunisia</td>\n",
       "      <td>2016-03-27 00:53:11</td>\n",
       "      <td>0</td>\n",
       "      <td>2016</td>\n",
       "      <td>March</td>\n",
       "      <td>Sunday</td>\n",
       "      <td>0</td>\n",
       "    </tr>\n",
       "    <tr>\n",
       "      <th>1</th>\n",
       "      <td>80.23</td>\n",
       "      <td>31</td>\n",
       "      <td>68441.85</td>\n",
       "      <td>193.77</td>\n",
       "      <td>West Jodi</td>\n",
       "      <td>1</td>\n",
       "      <td>Nauru</td>\n",
       "      <td>2016-04-04 01:39:02</td>\n",
       "      <td>0</td>\n",
       "      <td>2016</td>\n",
       "      <td>April</td>\n",
       "      <td>Monday</td>\n",
       "      <td>1</td>\n",
       "    </tr>\n",
       "    <tr>\n",
       "      <th>2</th>\n",
       "      <td>69.47</td>\n",
       "      <td>26</td>\n",
       "      <td>59785.94</td>\n",
       "      <td>236.50</td>\n",
       "      <td>Davidton</td>\n",
       "      <td>0</td>\n",
       "      <td>San Marino</td>\n",
       "      <td>2016-03-13 20:35:42</td>\n",
       "      <td>0</td>\n",
       "      <td>2016</td>\n",
       "      <td>March</td>\n",
       "      <td>Sunday</td>\n",
       "      <td>20</td>\n",
       "    </tr>\n",
       "    <tr>\n",
       "      <th>3</th>\n",
       "      <td>74.15</td>\n",
       "      <td>29</td>\n",
       "      <td>54806.18</td>\n",
       "      <td>245.89</td>\n",
       "      <td>West Terrifurt</td>\n",
       "      <td>1</td>\n",
       "      <td>Italy</td>\n",
       "      <td>2016-01-10 02:31:19</td>\n",
       "      <td>0</td>\n",
       "      <td>2016</td>\n",
       "      <td>January</td>\n",
       "      <td>Sunday</td>\n",
       "      <td>2</td>\n",
       "    </tr>\n",
       "    <tr>\n",
       "      <th>4</th>\n",
       "      <td>68.37</td>\n",
       "      <td>35</td>\n",
       "      <td>73889.99</td>\n",
       "      <td>225.58</td>\n",
       "      <td>South Manuel</td>\n",
       "      <td>0</td>\n",
       "      <td>Iceland</td>\n",
       "      <td>2016-06-03 03:36:18</td>\n",
       "      <td>0</td>\n",
       "      <td>2016</td>\n",
       "      <td>June</td>\n",
       "      <td>Friday</td>\n",
       "      <td>3</td>\n",
       "    </tr>\n",
       "  </tbody>\n",
       "</table>\n",
       "</div>"
      ],
      "text/plain": [
       "   Daily Time Spent on Site  Age  Area Income  Daily Internet Usage  \\\n",
       "0                     68.95   35     61833.90                256.09   \n",
       "1                     80.23   31     68441.85                193.77   \n",
       "2                     69.47   26     59785.94                236.50   \n",
       "3                     74.15   29     54806.18                245.89   \n",
       "4                     68.37   35     73889.99                225.58   \n",
       "\n",
       "             City  gender     Country           Timestamp  Clicked on Ad  \\\n",
       "0     Wrightburgh       0     Tunisia 2016-03-27 00:53:11              0   \n",
       "1       West Jodi       1       Nauru 2016-04-04 01:39:02              0   \n",
       "2        Davidton       0  San Marino 2016-03-13 20:35:42              0   \n",
       "3  West Terrifurt       1       Italy 2016-01-10 02:31:19              0   \n",
       "4    South Manuel       0     Iceland 2016-06-03 03:36:18              0   \n",
       "\n",
       "   year    month     day  hour  \n",
       "0  2016    March  Sunday     0  \n",
       "1  2016    April  Monday     1  \n",
       "2  2016    March  Sunday    20  \n",
       "3  2016  January  Sunday     2  \n",
       "4  2016     June  Friday     3  "
      ]
     },
     "execution_count": 45,
     "metadata": {},
     "output_type": "execute_result"
    }
   ],
   "source": [
    "df.head()"
   ]
  },
  {
   "cell_type": "code",
   "execution_count": 46,
   "id": "b0ff8ceb",
   "metadata": {},
   "outputs": [],
   "source": [
    "df.drop('Timestamp',axis=1,inplace=True)"
   ]
  },
  {
   "cell_type": "code",
   "execution_count": null,
   "id": "26860346",
   "metadata": {},
   "outputs": [],
   "source": []
  },
  {
   "cell_type": "code",
   "execution_count": 47,
   "id": "3964842a",
   "metadata": {},
   "outputs": [],
   "source": [
    "num=df.select_dtypes('number')"
   ]
  },
  {
   "cell_type": "code",
   "execution_count": 48,
   "id": "53f10fa7",
   "metadata": {},
   "outputs": [
    {
     "name": "stdout",
     "output_type": "stream",
     "text": [
      "<class 'pandas.core.frame.DataFrame'>\n",
      "RangeIndex: 1000 entries, 0 to 999\n",
      "Data columns (total 8 columns):\n",
      " #   Column                    Non-Null Count  Dtype  \n",
      "---  ------                    --------------  -----  \n",
      " 0   Daily Time Spent on Site  1000 non-null   float64\n",
      " 1   Age                       1000 non-null   int64  \n",
      " 2   Area Income               1000 non-null   float64\n",
      " 3   Daily Internet Usage      1000 non-null   float64\n",
      " 4   gender                    1000 non-null   int64  \n",
      " 5   Clicked on Ad             1000 non-null   int64  \n",
      " 6   year                      1000 non-null   int64  \n",
      " 7   hour                      1000 non-null   int64  \n",
      "dtypes: float64(3), int64(5)\n",
      "memory usage: 62.6 KB\n"
     ]
    }
   ],
   "source": [
    "num.info()"
   ]
  },
  {
   "cell_type": "code",
   "execution_count": 49,
   "id": "36365993",
   "metadata": {},
   "outputs": [
    {
     "data": {
      "text/plain": [
       "<AxesSubplot:>"
      ]
     },
     "execution_count": 49,
     "metadata": {},
     "output_type": "execute_result"
    },
    {
     "data": {
      "image/png": "[encoded data removed]",
      "text/plain": [
       "<Figure size 432x288 with 2 Axes>"
      ]
     },
     "metadata": {
      "needs_background": "light"
     },
     "output_type": "display_data"
    }
   ],
   "source": [
    "sns.heatmap(num.corr(),annot=True)"
   ]
  },
  {
   "cell_type": "code",
   "execution_count": null,
   "id": "6084134f",
   "metadata": {},
   "outputs": [],
   "source": []
  },
  {
   "cell_type": "code",
   "execution_count": 50,
   "id": "85324117",
   "metadata": {},
   "outputs": [],
   "source": [
    "from sklearn.preprocessing import LabelEncoder"
   ]
  },
  {
   "cell_type": "code",
   "execution_count": 51,
   "id": "65ce47e6",
   "metadata": {},
   "outputs": [],
   "source": [
    "le = LabelEncoder()\n",
    "df['day']= le.fit_transform(df['day'])\n",
    "df['month']= le.fit_transform(df['month'])"
   ]
  },
  {
   "cell_type": "code",
   "execution_count": 52,
   "id": "bd905a12",
   "metadata": {},
   "outputs": [],
   "source": [
    "xdum=pd.get_dummies(df.City,drop_first=True)\n",
    "q=pd.get_dummies(df.Country,drop_first=True)"
   ]
  },
  {
   "cell_type": "code",
   "execution_count": 53,
   "id": "36b07a65",
   "metadata": {},
   "outputs": [],
   "source": [
    "x=pd.concat([df,xdum,q],axis=1)"
   ]
  },
  {
   "cell_type": "code",
   "execution_count": 54,
   "id": "0f2d5822",
   "metadata": {},
   "outputs": [],
   "source": [
    "x.drop(['City','Country'],inplace=True,axis=1)"
   ]
  },
  {
   "cell_type": "code",
   "execution_count": 55,
   "id": "09f5cf43",
   "metadata": {},
   "outputs": [
    {
     "data": {
      "text/html": [
       "<div>\n",
       "<style scoped>\n",
       "    .dataframe tbody tr th:only-of-type {\n",
       "        vertical-align: middle;\n",
       "    }\n",
       "\n",
       "    .dataframe tbody tr th {\n",
       "        vertical-align: top;\n",
       "    }\n",
       "\n",
       "    .dataframe thead th {\n",
       "        text-align: right;\n",
       "    }\n",
       "</style>\n",
       "<table border=\"1\" class=\"dataframe\">\n",
       "  <thead>\n",
       "    <tr style=\"text-align: right;\">\n",
       "      <th></th>\n",
       "      <th>Daily Time Spent on Site</th>\n",
       "      <th>Age</th>\n",
       "      <th>Area Income</th>\n",
       "      <th>Daily Internet Usage</th>\n",
       "      <th>gender</th>\n",
       "      <th>Clicked on Ad</th>\n",
       "      <th>year</th>\n",
       "      <th>month</th>\n",
       "      <th>day</th>\n",
       "      <th>hour</th>\n",
       "      <th>...</th>\n",
       "      <th>Uruguay</th>\n",
       "      <th>Uzbekistan</th>\n",
       "      <th>Vanuatu</th>\n",
       "      <th>Venezuela</th>\n",
       "      <th>Vietnam</th>\n",
       "      <th>Wallis and Futuna</th>\n",
       "      <th>Western Sahara</th>\n",
       "      <th>Yemen</th>\n",
       "      <th>Zambia</th>\n",
       "      <th>Zimbabwe</th>\n",
       "    </tr>\n",
       "  </thead>\n",
       "  <tbody>\n",
       "    <tr>\n",
       "      <th>0</th>\n",
       "      <td>68.95</td>\n",
       "      <td>35</td>\n",
       "      <td>61833.90</td>\n",
       "      <td>256.09</td>\n",
       "      <td>0</td>\n",
       "      <td>0</td>\n",
       "      <td>2016</td>\n",
       "      <td>5</td>\n",
       "      <td>3</td>\n",
       "      <td>0</td>\n",
       "      <td>...</td>\n",
       "      <td>0</td>\n",
       "      <td>0</td>\n",
       "      <td>0</td>\n",
       "      <td>0</td>\n",
       "      <td>0</td>\n",
       "      <td>0</td>\n",
       "      <td>0</td>\n",
       "      <td>0</td>\n",
       "      <td>0</td>\n",
       "      <td>0</td>\n",
       "    </tr>\n",
       "    <tr>\n",
       "      <th>1</th>\n",
       "      <td>80.23</td>\n",
       "      <td>31</td>\n",
       "      <td>68441.85</td>\n",
       "      <td>193.77</td>\n",
       "      <td>1</td>\n",
       "      <td>0</td>\n",
       "      <td>2016</td>\n",
       "      <td>0</td>\n",
       "      <td>1</td>\n",
       "      <td>1</td>\n",
       "      <td>...</td>\n",
       "      <td>0</td>\n",
       "      <td>0</td>\n",
       "      <td>0</td>\n",
       "      <td>0</td>\n",
       "      <td>0</td>\n",
       "      <td>0</td>\n",
       "      <td>0</td>\n",
       "      <td>0</td>\n",
       "      <td>0</td>\n",
       "      <td>0</td>\n",
       "    </tr>\n",
       "    <tr>\n",
       "      <th>2</th>\n",
       "      <td>69.47</td>\n",
       "      <td>26</td>\n",
       "      <td>59785.94</td>\n",
       "      <td>236.50</td>\n",
       "      <td>0</td>\n",
       "      <td>0</td>\n",
       "      <td>2016</td>\n",
       "      <td>5</td>\n",
       "      <td>3</td>\n",
       "      <td>20</td>\n",
       "      <td>...</td>\n",
       "      <td>0</td>\n",
       "      <td>0</td>\n",
       "      <td>0</td>\n",
       "      <td>0</td>\n",
       "      <td>0</td>\n",
       "      <td>0</td>\n",
       "      <td>0</td>\n",
       "      <td>0</td>\n",
       "      <td>0</td>\n",
       "      <td>0</td>\n",
       "    </tr>\n",
       "    <tr>\n",
       "      <th>3</th>\n",
       "      <td>74.15</td>\n",
       "      <td>29</td>\n",
       "      <td>54806.18</td>\n",
       "      <td>245.89</td>\n",
       "      <td>1</td>\n",
       "      <td>0</td>\n",
       "      <td>2016</td>\n",
       "      <td>2</td>\n",
       "      <td>3</td>\n",
       "      <td>2</td>\n",
       "      <td>...</td>\n",
       "      <td>0</td>\n",
       "      <td>0</td>\n",
       "      <td>0</td>\n",
       "      <td>0</td>\n",
       "      <td>0</td>\n",
       "      <td>0</td>\n",
       "      <td>0</td>\n",
       "      <td>0</td>\n",
       "      <td>0</td>\n",
       "      <td>0</td>\n",
       "    </tr>\n",
       "    <tr>\n",
       "      <th>4</th>\n",
       "      <td>68.37</td>\n",
       "      <td>35</td>\n",
       "      <td>73889.99</td>\n",
       "      <td>225.58</td>\n",
       "      <td>0</td>\n",
       "      <td>0</td>\n",
       "      <td>2016</td>\n",
       "      <td>4</td>\n",
       "      <td>0</td>\n",
       "      <td>3</td>\n",
       "      <td>...</td>\n",
       "      <td>0</td>\n",
       "      <td>0</td>\n",
       "      <td>0</td>\n",
       "      <td>0</td>\n",
       "      <td>0</td>\n",
       "      <td>0</td>\n",
       "      <td>0</td>\n",
       "      <td>0</td>\n",
       "      <td>0</td>\n",
       "      <td>0</td>\n",
       "    </tr>\n",
       "  </tbody>\n",
       "</table>\n",
       "<p>5 rows × 1214 columns</p>\n",
       "</div>"
      ],
      "text/plain": [
       "   Daily Time Spent on Site  Age  Area Income  Daily Internet Usage  gender  \\\n",
       "0                     68.95   35     61833.90                256.09       0   \n",
       "1                     80.23   31     68441.85                193.77       1   \n",
       "2                     69.47   26     59785.94                236.50       0   \n",
       "3                     74.15   29     54806.18                245.89       1   \n",
       "4                     68.37   35     73889.99                225.58       0   \n",
       "\n",
       "   Clicked on Ad  year  month  day  hour  ...  Uruguay  Uzbekistan  Vanuatu  \\\n",
       "0              0  2016      5    3     0  ...        0           0        0   \n",
       "1              0  2016      0    1     1  ...        0           0        0   \n",
       "2              0  2016      5    3    20  ...        0           0        0   \n",
       "3              0  2016      2    3     2  ...        0           0        0   \n",
       "4              0  2016      4    0     3  ...        0           0        0   \n",
       "\n",
       "   Venezuela  Vietnam  Wallis and Futuna  Western Sahara  Yemen  Zambia  \\\n",
       "0          0        0                  0               0      0       0   \n",
       "1          0        0                  0               0      0       0   \n",
       "2          0        0                  0               0      0       0   \n",
       "3          0        0                  0               0      0       0   \n",
       "4          0        0                  0               0      0       0   \n",
       "\n",
       "   Zimbabwe  \n",
       "0         0  \n",
       "1         0  \n",
       "2         0  \n",
       "3         0  \n",
       "4         0  \n",
       "\n",
       "[5 rows x 1214 columns]"
      ]
     },
     "execution_count": 55,
     "metadata": {},
     "output_type": "execute_result"
    }
   ],
   "source": [
    "x.head()"
   ]
  },
  {
   "cell_type": "code",
   "execution_count": null,
   "id": "08ce363d",
   "metadata": {},
   "outputs": [],
   "source": []
  },
  {
   "cell_type": "code",
   "execution_count": 56,
   "id": "1d9baf73",
   "metadata": {},
   "outputs": [],
   "source": [
    "X=x.drop('Clicked on Ad',axis=1)"
   ]
  },
  {
   "cell_type": "code",
   "execution_count": 57,
   "id": "3a1ebeb9",
   "metadata": {},
   "outputs": [],
   "source": [
    "y=x['Clicked on Ad']"
   ]
  },
  {
   "cell_type": "code",
   "execution_count": 58,
   "id": "8cad1925",
   "metadata": {},
   "outputs": [],
   "source": [
    "from sklearn.model_selection import train_test_split,GridSearchCV\n",
    "from sklearn.metrics import classification_report,confusion_matrix,accuracy_score,roc_curve,auc "
   ]
  },
  {
   "cell_type": "code",
   "execution_count": 59,
   "id": "a12f9c24",
   "metadata": {},
   "outputs": [],
   "source": [
    "xtrain,xtest,ytrain,ytest=train_test_split(X,y,test_size=0.3,random_state=20)"
   ]
  },
  {
   "cell_type": "code",
   "execution_count": null,
   "id": "5a86cd4a",
   "metadata": {},
   "outputs": [],
   "source": []
  },
  {
   "cell_type": "markdown",
   "id": "748c4cee",
   "metadata": {},
   "source": [
    "# Logistic Regression"
   ]
  },
  {
   "cell_type": "code",
   "execution_count": 60,
   "id": "c9371786",
   "metadata": {},
   "outputs": [
    {
     "name": "stderr",
     "output_type": "stream",
     "text": [
      "C:\\Users\\hp\\anaconda3\\lib\\site-packages\\sklearn\\linear_model\\_logistic.py:814: ConvergenceWarning: lbfgs failed to converge (status=1):\n",
      "STOP: TOTAL NO. of ITERATIONS REACHED LIMIT.\n",
      "\n",
      "Increase the number of iterations (max_iter) or scale the data as shown in:\n",
      "    https://scikit-learn.org/stable/modules/preprocessing.html\n",
      "Please also refer to the documentation for alternative solver options:\n",
      "    https://scikit-learn.org/stable/modules/linear_model.html#logistic-regression\n",
      "  n_iter_i = _check_optimize_result(\n"
     ]
    },
    {
     "data": {
      "text/plain": [
       "LogisticRegression()"
      ]
     },
     "execution_count": 60,
     "metadata": {},
     "output_type": "execute_result"
    }
   ],
   "source": [
    "from sklearn.linear_model import LogisticRegression\n",
    "lm=LogisticRegression()\n",
    "lm.fit(xtrain,ytrain)"
   ]
  },
  {
   "cell_type": "code",
   "execution_count": 62,
   "id": "3a19e4a6",
   "metadata": {},
   "outputs": [],
   "source": [
    "y_pred=lm.predict(xtest)"
   ]
  },
  {
   "cell_type": "code",
   "execution_count": 63,
   "id": "40c8bf41",
   "metadata": {},
   "outputs": [
    {
     "data": {
      "text/plain": [
       "array([[156,   1],\n",
       "       [  6, 137]], dtype=int64)"
      ]
     },
     "execution_count": 63,
     "metadata": {},
     "output_type": "execute_result"
    }
   ],
   "source": [
    "confusion_matrix(ytest,y_pred)"
   ]
  },
  {
   "cell_type": "code",
   "execution_count": 64,
   "id": "87d3c22f",
   "metadata": {},
   "outputs": [
    {
     "data": {
      "text/plain": [
       "0.9766666666666667"
      ]
     },
     "execution_count": 64,
     "metadata": {},
     "output_type": "execute_result"
    }
   ],
   "source": [
    "#accuracy\n",
    "accuracy_score(ytest,y_pred)"
   ]
  },
  {
   "cell_type": "code",
   "execution_count": 65,
   "id": "a9b880ef",
   "metadata": {},
   "outputs": [
    {
     "name": "stdout",
     "output_type": "stream",
     "text": [
      "              precision    recall  f1-score   support\n",
      "\n",
      "           0       0.96      0.99      0.98       157\n",
      "           1       0.99      0.96      0.98       143\n",
      "\n",
      "    accuracy                           0.98       300\n",
      "   macro avg       0.98      0.98      0.98       300\n",
      "weighted avg       0.98      0.98      0.98       300\n",
      "\n"
     ]
    }
   ],
   "source": [
    "#classification Report\n",
    "print(classification_report(ytest,y_pred))"
   ]
  },
  {
   "cell_type": "code",
   "execution_count": 66,
   "id": "b6c50f39",
   "metadata": {},
   "outputs": [],
   "source": [
    "#ROC\n",
    "y_pred_prob=lm.predict_proba(xtest)\n",
    "fpr,tpr,th=roc_curve(ytest,y_pred_prob[:,1])\n",
    "roc_auc=auc(fpr,tpr)"
   ]
  },
  {
   "cell_type": "code",
   "execution_count": 67,
   "id": "d8e8a224",
   "metadata": {},
   "outputs": [
    {
     "data": {
      "image/png": "[encoded data removed]",
      "text/plain": [
       "<Figure size 432x288 with 1 Axes>"
      ]
     },
     "metadata": {
      "needs_background": "light"
     },
     "output_type": "display_data"
    }
   ],
   "source": [
    "plt.title('ROC for Log')\n",
    "plt.xlabel('false positive')\n",
    "plt.ylabel('True positive')\n",
    "plt.plot([0,1],[0,1],'r--')\n",
    "plt.plot(fpr,tpr,label='AUC'+str(roc_auc))\n",
    "plt.legend(loc=4)\n",
    "\n",
    "plt.show()"
   ]
  },
  {
   "cell_type": "code",
   "execution_count": null,
   "id": "098ea0fe",
   "metadata": {},
   "outputs": [],
   "source": []
  },
  {
   "cell_type": "markdown",
   "id": "4a208e00",
   "metadata": {},
   "source": [
    "# Random Forest"
   ]
  },
  {
   "cell_type": "code",
   "execution_count": 68,
   "id": "6fb2268e",
   "metadata": {},
   "outputs": [],
   "source": [
    "from sklearn.ensemble import RandomForestClassifier\n",
    "from sklearn import tree"
   ]
  },
  {
   "cell_type": "code",
   "execution_count": 69,
   "id": "7ee64c4b",
   "metadata": {},
   "outputs": [
    {
     "data": {
      "text/plain": [
       "RandomForestClassifier(random_state=30)"
      ]
     },
     "execution_count": 69,
     "metadata": {},
     "output_type": "execute_result"
    }
   ],
   "source": [
    "rf=RandomForestClassifier(random_state=30)\n",
    "rf.fit(xtrain,ytrain)"
   ]
  },
  {
   "cell_type": "code",
   "execution_count": 70,
   "id": "bf97a999",
   "metadata": {},
   "outputs": [],
   "source": [
    "params={\n",
    "    'n_estimators':[500,800,900],\n",
    "    'min_samples_split':[6,7,8,9]\n",
    "}"
   ]
  },
  {
   "cell_type": "code",
   "execution_count": 71,
   "id": "3d268ca1",
   "metadata": {},
   "outputs": [],
   "source": [
    "gd=GridSearchCV(rf,params)"
   ]
  },
  {
   "cell_type": "code",
   "execution_count": 72,
   "id": "63c83a69",
   "metadata": {},
   "outputs": [
    {
     "data": {
      "text/plain": [
       "GridSearchCV(estimator=RandomForestClassifier(random_state=30),\n",
       "             param_grid={'min_samples_split': [6, 7, 8, 9],\n",
       "                         'n_estimators': [500, 800, 900]})"
      ]
     },
     "execution_count": 72,
     "metadata": {},
     "output_type": "execute_result"
    }
   ],
   "source": [
    "gd.fit(xtrain,ytrain)"
   ]
  },
  {
   "cell_type": "code",
   "execution_count": 73,
   "id": "e4dcde14",
   "metadata": {},
   "outputs": [
    {
     "data": {
      "text/plain": [
       "{'min_samples_split': 6, 'n_estimators': 800}"
      ]
     },
     "execution_count": 73,
     "metadata": {},
     "output_type": "execute_result"
    }
   ],
   "source": [
    "gd.best_params_"
   ]
  },
  {
   "cell_type": "code",
   "execution_count": 74,
   "id": "2f47422a",
   "metadata": {},
   "outputs": [
    {
     "data": {
      "text/plain": [
       "RandomForestClassifier(min_samples_split=6, n_estimators=800, random_state=30)"
      ]
     },
     "execution_count": 74,
     "metadata": {},
     "output_type": "execute_result"
    }
   ],
   "source": [
    "rf=RandomForestClassifier(min_samples_split=6, n_estimators= 800,random_state=30)\n",
    "rf.fit(xtrain,ytrain)"
   ]
  },
  {
   "cell_type": "code",
   "execution_count": 75,
   "id": "0e5d44f2",
   "metadata": {},
   "outputs": [],
   "source": [
    "y_pred_rand=rf.predict(xtest)"
   ]
  },
  {
   "cell_type": "code",
   "execution_count": 76,
   "id": "79548600",
   "metadata": {},
   "outputs": [
    {
     "data": {
      "text/plain": [
       "array([[152,   5],\n",
       "       [  5, 138]], dtype=int64)"
      ]
     },
     "execution_count": 76,
     "metadata": {},
     "output_type": "execute_result"
    }
   ],
   "source": [
    "confusion_matrix(ytest,y_pred_rand)"
   ]
  },
  {
   "cell_type": "code",
   "execution_count": 77,
   "id": "6fd16467",
   "metadata": {},
   "outputs": [
    {
     "data": {
      "text/plain": [
       "0.9666666666666667"
      ]
     },
     "execution_count": 77,
     "metadata": {},
     "output_type": "execute_result"
    }
   ],
   "source": [
    "accuracy_score(ytest,y_pred_rand)"
   ]
  },
  {
   "cell_type": "code",
   "execution_count": 78,
   "id": "e9898257",
   "metadata": {},
   "outputs": [
    {
     "name": "stdout",
     "output_type": "stream",
     "text": [
      "              precision    recall  f1-score   support\n",
      "\n",
      "           0       0.97      0.97      0.97       157\n",
      "           1       0.97      0.97      0.97       143\n",
      "\n",
      "    accuracy                           0.97       300\n",
      "   macro avg       0.97      0.97      0.97       300\n",
      "weighted avg       0.97      0.97      0.97       300\n",
      "\n"
     ]
    }
   ],
   "source": [
    "print(classification_report(ytest,y_pred_rand))"
   ]
  },
  {
   "cell_type": "code",
   "execution_count": 79,
   "id": "708f3dd5",
   "metadata": {},
   "outputs": [
    {
     "data": {
      "text/plain": [
       "array([[0.98769246, 0.01230754],\n",
       "       [0.93872881, 0.06127119],\n",
       "       [0.55225189, 0.44774811],\n",
       "       [0.15613641, 0.84386359],\n",
       "       [0.11514525, 0.88485475],\n",
       "       [0.40628734, 0.59371266],\n",
       "       [0.02421884, 0.97578116],\n",
       "       [0.66755668, 0.33244332],\n",
       "       [0.76200731, 0.23799269],\n",
       "       [0.02475253, 0.97524747],\n",
       "       [0.05813596, 0.94186404],\n",
       "       [0.0150119 , 0.9849881 ],\n",
       "       [0.62054004, 0.37945996],\n",
       "       [0.97193254, 0.02806746],\n",
       "       [0.16524089, 0.83475911],\n",
       "       [0.84001587, 0.15998413],\n",
       "       [0.10232093, 0.89767907],\n",
       "       [0.9925    , 0.0075    ],\n",
       "       [0.97219877, 0.02780123],\n",
       "       [0.77719476, 0.22280524],\n",
       "       [0.10398165, 0.89601835],\n",
       "       [0.894562  , 0.105438  ],\n",
       "       [0.910687  , 0.089313  ],\n",
       "       [0.31918164, 0.68081836],\n",
       "       [0.86438343, 0.13561657],\n",
       "       [0.96139236, 0.03860764],\n",
       "       [0.94150198, 0.05849802],\n",
       "       [0.88875821, 0.11124179],\n",
       "       [0.81998056, 0.18001944],\n",
       "       [0.98162252, 0.01837748],\n",
       "       [0.01169494, 0.98830506],\n",
       "       [0.96239827, 0.03760173],\n",
       "       [0.02218304, 0.97781696],\n",
       "       [0.10744097, 0.89255903],\n",
       "       [0.03679663, 0.96320337],\n",
       "       [0.90493353, 0.09506647],\n",
       "       [0.01989484, 0.98010516],\n",
       "       [0.01213794, 0.98786206],\n",
       "       [0.04759226, 0.95240774],\n",
       "       [0.89916261, 0.10083739],\n",
       "       [0.49517983, 0.50482017],\n",
       "       [0.97008622, 0.02991378],\n",
       "       [0.96379563, 0.03620437],\n",
       "       [0.01243105, 0.98756895],\n",
       "       [0.05140093, 0.94859907],\n",
       "       [0.34453819, 0.65546181],\n",
       "       [0.9422872 , 0.0577128 ],\n",
       "       [0.9254223 , 0.0745777 ],\n",
       "       [0.95984177, 0.04015823],\n",
       "       [0.98354365, 0.01645635],\n",
       "       [0.59000045, 0.40999955],\n",
       "       [0.73877972, 0.26122028],\n",
       "       [0.93002381, 0.06997619],\n",
       "       [0.97150492, 0.02849508],\n",
       "       [0.7402491 , 0.2597509 ],\n",
       "       [0.71209564, 0.28790436],\n",
       "       [0.67779185, 0.32220815],\n",
       "       [0.81405704, 0.18594296],\n",
       "       [0.82269088, 0.17730912],\n",
       "       [0.09549815, 0.90450185],\n",
       "       [0.70182522, 0.29817478],\n",
       "       [0.18633798, 0.81366202],\n",
       "       [0.79014259, 0.20985741],\n",
       "       [0.11441044, 0.88558956],\n",
       "       [0.70524026, 0.29475974],\n",
       "       [0.89134177, 0.10865823],\n",
       "       [0.93840832, 0.06159168],\n",
       "       [0.40698805, 0.59301195],\n",
       "       [0.92692654, 0.07307346],\n",
       "       [0.07175356, 0.92824644],\n",
       "       [0.56632828, 0.43367172],\n",
       "       [0.96277083, 0.03722917],\n",
       "       [0.96210376, 0.03789624],\n",
       "       [0.01973034, 0.98026966],\n",
       "       [0.13815079, 0.86184921],\n",
       "       [0.81824964, 0.18175036],\n",
       "       [0.89178287, 0.10821713],\n",
       "       [0.68420856, 0.31579144],\n",
       "       [0.17498724, 0.82501276],\n",
       "       [0.03608216, 0.96391784],\n",
       "       [0.90946825, 0.09053175],\n",
       "       [0.10263641, 0.89736359],\n",
       "       [0.2064747 , 0.7935253 ],\n",
       "       [0.69022168, 0.30977832],\n",
       "       [0.05314385, 0.94685615],\n",
       "       [0.85186697, 0.14813303],\n",
       "       [0.95369422, 0.04630578],\n",
       "       [0.94610913, 0.05389087],\n",
       "       [0.46107404, 0.53892596],\n",
       "       [0.29246907, 0.70753093],\n",
       "       [0.72763127, 0.27236873],\n",
       "       [0.86165819, 0.13834181],\n",
       "       [0.09124531, 0.90875469],\n",
       "       [0.03326393, 0.96673607],\n",
       "       [0.91862099, 0.08137901],\n",
       "       [0.04072087, 0.95927913],\n",
       "       [0.1114122 , 0.8885878 ],\n",
       "       [0.02187946, 0.97812054],\n",
       "       [0.94882436, 0.05117564],\n",
       "       [0.10931696, 0.89068304],\n",
       "       [0.01744742, 0.98255258],\n",
       "       [0.02729464, 0.97270536],\n",
       "       [0.08538889, 0.91461111],\n",
       "       [0.95959028, 0.04040972],\n",
       "       [0.7965947 , 0.2034053 ],\n",
       "       [0.26836409, 0.73163591],\n",
       "       [0.89759619, 0.10240381],\n",
       "       [0.03316468, 0.96683532],\n",
       "       [0.90485069, 0.09514931],\n",
       "       [0.85690575, 0.14309425],\n",
       "       [0.02061359, 0.97938641],\n",
       "       [0.08767063, 0.91232937],\n",
       "       [0.0883649 , 0.9116351 ],\n",
       "       [0.02592514, 0.97407486],\n",
       "       [0.9600257 , 0.0399743 ],\n",
       "       [0.96716865, 0.03283135],\n",
       "       [0.13646379, 0.86353621],\n",
       "       [0.08909948, 0.91090052],\n",
       "       [0.78186454, 0.21813546],\n",
       "       [0.96792438, 0.03207562],\n",
       "       [0.32053968, 0.67946032],\n",
       "       [0.09333306, 0.90666694],\n",
       "       [0.97890566, 0.02109434],\n",
       "       [0.72684975, 0.27315025],\n",
       "       [0.78494048, 0.21505952],\n",
       "       [0.08920306, 0.91079694],\n",
       "       [0.97074495, 0.02925505],\n",
       "       [0.02777877, 0.97222123],\n",
       "       [0.8497381 , 0.1502619 ],\n",
       "       [0.05483978, 0.94516022],\n",
       "       [0.06038542, 0.93961458],\n",
       "       [0.01949554, 0.98050446],\n",
       "       [0.92847479, 0.07152521],\n",
       "       [0.98519147, 0.01480853],\n",
       "       [0.32296077, 0.67703923],\n",
       "       [0.2026751 , 0.7973249 ],\n",
       "       [0.20484515, 0.79515485],\n",
       "       [0.97130109, 0.02869891],\n",
       "       [0.91955853, 0.08044147],\n",
       "       [0.95239592, 0.04760408],\n",
       "       [0.02743105, 0.97256895],\n",
       "       [0.97252778, 0.02747222],\n",
       "       [0.69407147, 0.30592853],\n",
       "       [0.08538217, 0.91461783],\n",
       "       [0.88882499, 0.11117501],\n",
       "       [0.04969097, 0.95030903],\n",
       "       [0.79490039, 0.20509961],\n",
       "       [0.02593006, 0.97406994],\n",
       "       [0.72336706, 0.27663294],\n",
       "       [0.98661905, 0.01338095],\n",
       "       [0.82593452, 0.17406548],\n",
       "       [0.95126389, 0.04873611],\n",
       "       [0.07414683, 0.92585317],\n",
       "       [0.95091171, 0.04908829],\n",
       "       [0.90306295, 0.09693705],\n",
       "       [0.31601966, 0.68398034],\n",
       "       [0.94796081, 0.05203919],\n",
       "       [0.96771875, 0.03228125],\n",
       "       [0.94057639, 0.05942361],\n",
       "       [0.16444354, 0.83555646],\n",
       "       [0.04721537, 0.95278463],\n",
       "       [0.96996379, 0.03003621],\n",
       "       [0.10055407, 0.89944593],\n",
       "       [0.98833681, 0.01166319],\n",
       "       [0.96271329, 0.03728671],\n",
       "       [0.87537946, 0.12462054],\n",
       "       [0.50029257, 0.49970743],\n",
       "       [0.14172466, 0.85827534],\n",
       "       [0.91257806, 0.08742194],\n",
       "       [0.12018601, 0.87981399],\n",
       "       [0.04006448, 0.95993552],\n",
       "       [0.00654861, 0.99345139],\n",
       "       [0.97042154, 0.02957846],\n",
       "       [0.84844169, 0.15155831],\n",
       "       [0.25774256, 0.74225744],\n",
       "       [0.90676556, 0.09323444],\n",
       "       [0.03941468, 0.96058532],\n",
       "       [0.04860665, 0.95139335],\n",
       "       [0.10415783, 0.89584217],\n",
       "       [0.98418452, 0.01581548],\n",
       "       [0.1028612 , 0.8971388 ],\n",
       "       [0.64274847, 0.35725153],\n",
       "       [0.03797024, 0.96202976],\n",
       "       [0.05140436, 0.94859564],\n",
       "       [0.90822881, 0.09177119],\n",
       "       [0.94732688, 0.05267312],\n",
       "       [0.90647222, 0.09352778],\n",
       "       [0.94969936, 0.05030064],\n",
       "       [0.0454122 , 0.9545878 ],\n",
       "       [0.05383622, 0.94616378],\n",
       "       [0.29109799, 0.70890201],\n",
       "       [0.13955853, 0.86044147],\n",
       "       [0.98218254, 0.01781746],\n",
       "       [0.90718994, 0.09281006],\n",
       "       [0.03696983, 0.96303017],\n",
       "       [0.47428824, 0.52571176],\n",
       "       [0.97904762, 0.02095238],\n",
       "       [0.99453522, 0.00546478],\n",
       "       [0.65267501, 0.34732499],\n",
       "       [0.07958049, 0.92041951],\n",
       "       [0.03502981, 0.96497019],\n",
       "       [0.02311458, 0.97688542],\n",
       "       [0.11452458, 0.88547542],\n",
       "       [0.91610814, 0.08389186],\n",
       "       [0.2216641 , 0.7783359 ],\n",
       "       [0.94633333, 0.05366667],\n",
       "       [0.64693615, 0.35306385],\n",
       "       [0.05678819, 0.94321181],\n",
       "       [0.41390133, 0.58609867],\n",
       "       [0.89505308, 0.10494692],\n",
       "       [0.34898359, 0.65101641],\n",
       "       [0.04258333, 0.95741667],\n",
       "       [0.93530605, 0.06469395],\n",
       "       [0.87241617, 0.12758383],\n",
       "       [0.98068849, 0.01931151],\n",
       "       [0.51920594, 0.48079406],\n",
       "       [0.38373088, 0.61626912],\n",
       "       [0.98849554, 0.01150446],\n",
       "       [0.0375506 , 0.9624494 ],\n",
       "       [0.94191874, 0.05808126],\n",
       "       [0.08175   , 0.91825   ],\n",
       "       [0.03395883, 0.96604117],\n",
       "       [0.97179167, 0.02820833],\n",
       "       [0.07300496, 0.92699504],\n",
       "       [0.87745216, 0.12254784],\n",
       "       [0.4473355 , 0.5526645 ],\n",
       "       [0.6419513 , 0.3580487 ],\n",
       "       [0.79578571, 0.20421429],\n",
       "       [0.94004266, 0.05995734],\n",
       "       [0.93376682, 0.06623318],\n",
       "       [0.13485723, 0.86514277],\n",
       "       [0.86959348, 0.13040652],\n",
       "       [0.02123562, 0.97876438],\n",
       "       [0.94837847, 0.05162153],\n",
       "       [0.04512906, 0.95487094],\n",
       "       [0.10105704, 0.89894296],\n",
       "       [0.68986251, 0.31013749],\n",
       "       [0.93256944, 0.06743056],\n",
       "       [0.87697317, 0.12302683],\n",
       "       [0.01628287, 0.98371713],\n",
       "       [0.13021338, 0.86978662],\n",
       "       [0.02941617, 0.97058383],\n",
       "       [0.96601935, 0.03398065],\n",
       "       [0.89997989, 0.10002011],\n",
       "       [0.86101488, 0.13898512],\n",
       "       [0.08369508, 0.91630492],\n",
       "       [0.95275735, 0.04724265],\n",
       "       [0.7860234 , 0.2139766 ],\n",
       "       [0.00803571, 0.99196429],\n",
       "       [0.66461188, 0.33538812],\n",
       "       [0.97462351, 0.02537649],\n",
       "       [0.86447867, 0.13552133],\n",
       "       [0.73782179, 0.26217821],\n",
       "       [0.93596199, 0.06403801],\n",
       "       [0.09238925, 0.90761075],\n",
       "       [0.96404315, 0.03595685],\n",
       "       [0.02837252, 0.97162748],\n",
       "       [0.91894282, 0.08105718],\n",
       "       [0.09740061, 0.90259939],\n",
       "       [0.08890923, 0.91109077],\n",
       "       [0.77917776, 0.22082224],\n",
       "       [0.59805357, 0.40194643],\n",
       "       [0.04082589, 0.95917411],\n",
       "       [0.90098512, 0.09901488],\n",
       "       [0.02761161, 0.97238839],\n",
       "       [0.08753874, 0.91246126],\n",
       "       [0.03795486, 0.96204514],\n",
       "       [0.20993403, 0.79006597],\n",
       "       [0.06663542, 0.93336458],\n",
       "       [0.91744345, 0.08255655],\n",
       "       [0.1599449 , 0.8400551 ],\n",
       "       [0.17156525, 0.82843475],\n",
       "       [0.03762897, 0.96237103],\n",
       "       [0.92032089, 0.07967911],\n",
       "       [0.05481385, 0.94518615],\n",
       "       [0.95438393, 0.04561607],\n",
       "       [0.10510399, 0.89489601],\n",
       "       [0.8521985 , 0.1478015 ],\n",
       "       [0.14053084, 0.85946916],\n",
       "       [0.95839822, 0.04160178],\n",
       "       [0.15073629, 0.84926371],\n",
       "       [0.4847835 , 0.5152165 ],\n",
       "       [0.20369918, 0.79630082],\n",
       "       [0.14498918, 0.85501082],\n",
       "       [0.95343682, 0.04656318],\n",
       "       [0.03819395, 0.96180605],\n",
       "       [0.04381399, 0.95618601],\n",
       "       [0.84146988, 0.15853012],\n",
       "       [0.92437626, 0.07562374],\n",
       "       [0.08545243, 0.91454757],\n",
       "       [0.88819706, 0.11180294],\n",
       "       [0.84422168, 0.15577832],\n",
       "       [0.77809298, 0.22190702],\n",
       "       [0.12972173, 0.87027827],\n",
       "       [0.04327047, 0.95672953],\n",
       "       [0.05986431, 0.94013569],\n",
       "       [0.03265228, 0.96734772],\n",
       "       [0.06634975, 0.93365025],\n",
       "       [0.25845414, 0.74154586],\n",
       "       [0.0233497 , 0.9766503 ]])"
      ]
     },
     "execution_count": 79,
     "metadata": {},
     "output_type": "execute_result"
    }
   ],
   "source": [
    "prob=rf.predict_proba(xtest)\n",
    "prob"
   ]
  },
  {
   "cell_type": "code",
   "execution_count": 80,
   "id": "db16e9f0",
   "metadata": {},
   "outputs": [
    {
     "name": "stdout",
     "output_type": "stream",
     "text": [
      "0.9898000089082892\n"
     ]
    }
   ],
   "source": [
    "#roc\n",
    "fp,tp,th=roc_curve(ytest,prob[:,1])\n",
    "roc_auc = auc(fp, tp) \n",
    "print(roc_auc)"
   ]
  },
  {
   "cell_type": "code",
   "execution_count": 81,
   "id": "c311943a",
   "metadata": {},
   "outputs": [
    {
     "data": {
      "image/png": "[encoded data removed]",
      "text/plain": [
       "<Figure size 432x288 with 1 Axes>"
      ]
     },
     "metadata": {
      "needs_background": "light"
     },
     "output_type": "display_data"
    }
   ],
   "source": [
    "plt.figure()\n",
    "plt.plot(fp,tp,label='ROC')\n",
    "plt.plot([0,1],[0,1],'r--')\n",
    "plt.xlim([0.0,1.05])\n",
    "plt.ylim([0.0,1.05])\n",
    "plt.xlabel('fp_rate')\n",
    "plt.ylabel('tp_rate')\n",
    "plt.legend(loc='lower right')\n",
    "plt.show()"
   ]
  },
  {
   "cell_type": "code",
   "execution_count": null,
   "id": "dfdd24fd",
   "metadata": {},
   "outputs": [],
   "source": []
  },
  {
   "cell_type": "markdown",
   "id": "281b3f36",
   "metadata": {},
   "source": [
    "# Decision Tree"
   ]
  },
  {
   "cell_type": "code",
   "execution_count": 82,
   "id": "6f420fe8",
   "metadata": {},
   "outputs": [],
   "source": [
    "from sklearn.tree import DecisionTreeClassifier"
   ]
  },
  {
   "cell_type": "code",
   "execution_count": 83,
   "id": "384e1ecf",
   "metadata": {},
   "outputs": [
    {
     "data": {
      "text/plain": [
       "DecisionTreeClassifier()"
      ]
     },
     "execution_count": 83,
     "metadata": {},
     "output_type": "execute_result"
    }
   ],
   "source": [
    "dt=DecisionTreeClassifier()\n",
    "dt.fit(xtrain,ytrain)"
   ]
  },
  {
   "cell_type": "code",
   "execution_count": 84,
   "id": "dc1ebc4c",
   "metadata": {},
   "outputs": [],
   "source": [
    "y_pred=dt.predict(xtest)"
   ]
  },
  {
   "cell_type": "code",
   "execution_count": 85,
   "id": "521e4261",
   "metadata": {},
   "outputs": [
    {
     "data": {
      "text/plain": [
       "array([[148,   9],\n",
       "       [  7, 136]], dtype=int64)"
      ]
     },
     "execution_count": 85,
     "metadata": {},
     "output_type": "execute_result"
    }
   ],
   "source": [
    "confusion_matrix(ytest,y_pred)"
   ]
  },
  {
   "cell_type": "code",
   "execution_count": 86,
   "id": "4a29cd86",
   "metadata": {},
   "outputs": [
    {
     "data": {
      "text/plain": [
       "0.9466666666666667"
      ]
     },
     "execution_count": 86,
     "metadata": {},
     "output_type": "execute_result"
    }
   ],
   "source": [
    "accuracy_score(ytest,y_pred)"
   ]
  },
  {
   "cell_type": "code",
   "execution_count": 87,
   "id": "ae911b61",
   "metadata": {},
   "outputs": [
    {
     "data": {
      "text/plain": [
       "'              precision    recall  f1-score   support\\n\\n           0       0.95      0.94      0.95       157\\n           1       0.94      0.95      0.94       143\\n\\n    accuracy                           0.95       300\\n   macro avg       0.95      0.95      0.95       300\\nweighted avg       0.95      0.95      0.95       300\\n'"
      ]
     },
     "execution_count": 87,
     "metadata": {},
     "output_type": "execute_result"
    }
   ],
   "source": [
    "classification_report(ytest,y_pred)"
   ]
  },
  {
   "cell_type": "code",
   "execution_count": null,
   "id": "6f84ca20",
   "metadata": {},
   "outputs": [],
   "source": []
  },
  {
   "cell_type": "code",
   "execution_count": null,
   "id": "5a30e671",
   "metadata": {},
   "outputs": [],
   "source": []
  },
  {
   "cell_type": "code",
   "execution_count": null,
   "id": "deb5cd37",
   "metadata": {},
   "outputs": [],
   "source": []
  },
  {
   "cell_type": "code",
   "execution_count": null,
   "id": "405e5bfe",
   "metadata": {},
   "outputs": [],
   "source": []
  }
 ],
 "metadata": {
  "kernelspec": {
   "display_name": "Python 3 (ipykernel)",
   "language": "python",
   "name": "python3"
  },
  "language_info": {
   "codemirror_mode": {
    "name": "ipython",
    "version": 3
   },
   "file_extension": ".py",
   "mimetype": "text/x-python",
   "name": "python",
   "nbconvert_exporter": "python",
   "pygments_lexer": "ipython3",
   "version": "3.9.12"
  }
 },
 "nbformat": 4,
 "nbformat_minor": 5
}
